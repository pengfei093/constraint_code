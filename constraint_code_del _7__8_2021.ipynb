{
 "metadata": {
  "language_info": {
   "codemirror_mode": {
    "name": "ipython",
    "version": 3
   },
   "file_extension": ".py",
   "mimetype": "text/x-python",
   "name": "python",
   "nbconvert_exporter": "python",
   "pygments_lexer": "ipython3",
   "version": "3.9.6"
  },
  "orig_nbformat": 2,
  "kernelspec": {
   "name": "python396jvsc74a57bd003ca5990335308efe3b7ac7200c60f7ea115f204409554a3521f10fd300f9b12",
   "display_name": "Python 3.9.5 64-bit ('PythonSoftwareFoundation.Python.3.9_qbz5n2kfra8p0')"
  },
  "metadata": {
   "interpreter": {
    "hash": "03ca5990335308efe3b7ac7200c60f7ea115f204409554a3521f10fd300f9b12"
   }
  }
 },
 "nbformat": 4,
 "nbformat_minor": 2,
 "cells": [
  {
   "cell_type": "code",
   "execution_count": 1,
   "metadata": {},
   "outputs": [],
   "source": [
    "from collections import defaultdict\n",
    "import numpy as np \n",
    "\n",
    "def  moore_algorithm(graph):\n",
    "  total_state_num = len(graph)  \n",
    "  equivalence_class = {}\n",
    "  \n",
    "# l = 1\n",
    "  map = defaultdict(set)\n",
    "  state_idx = 0\n",
    "  for node in graph:\n",
    "    output_idxs = graph[node]\n",
    "    edges_labels_list = []\n",
    "    for output_idx in output_idxs:\n",
    "      edges_labels_list.extend(edges_label[(node,output_idx)])\n",
    "    map[tuple(edges_labels_list)].add(state_idx)\n",
    "    state_idx += 1\n",
    "  #  Pi_1\n",
    "  state_sets = map.values()\n",
    "  print('initial sets number')\n",
    "  print(len(state_sets))\n",
    "\n",
    "  set_graph = state_set_to_graph(state_sets, total_state_num)\n",
    "  new_set_graph = state_graph_to_set(set_graph)\n",
    "  #l > 1\n",
    "  #state_sets_new = partition_unpdate(state_sets, graph)\n",
    " # while len(state_sets_new) != len(state_sets):\n",
    "  #  print('sets number')\n",
    " #   print(len(state_sets_new))\n",
    " #   state_sets = state_sets_new\n",
    "#    state_sets_new = partition_unpdate(state_sets, graph)\n",
    "  #equivalence_class = state_sets_new\n",
    "  #print(len(equivalence_class))\n",
    "  equivalence_class = state_sets\n",
    "  return equivalence_class\n",
    "\n",
    "\n",
    "def state_set_to_graph(state_sets, total_state_num):\n",
    "  set_graph = np.zeros((total_state_num,total_state_num))\n",
    "  for state_set in state_sets:\n",
    "    state_set = sorted(state_set)\n",
    "    set_idx = min(state_set)\n",
    "    for state in state_set:\n",
    "      set_graph[set_idx][state] = 1\n",
    "  return set_graph\n",
    "\n",
    "\n",
    "def state_graph_to_set(set_graph):\n",
    "  state_sets = []\n",
    "  for row in set_graph:\n",
    "    output_edge_idx = np.nonzero(row)\n",
    "    output_edge_idx = set(output_edge_idx[0])\n",
    "    if len(output_edge_idx) > 0:\n",
    "      state_sets.append(output_edge_idx)\n",
    "  return state_sets\n",
    "\n",
    "\n",
    "def partition_unpdate(state_sets, graph):\n",
    "  total_state_num = len(graph) \n",
    "  set_graph = state_set_to_graph(state_sets, total_state_num)\n",
    "  for state_set in state_sets:\n",
    "    one_state = min(state_set)  # take the min state because all the states in the same set have same edges\n",
    "    output_edges = graph[one_state]\n",
    "    for des_state, edge_label in output_edges:\n",
    "      des_state_set_idx_map_state = defaultdict(set)\n",
    "      for state in state_set:\n",
    "        des_state_set_idx = np.where(set_graph[:,des_state] == 1)\n",
    "        des_state_set_idx = des_state_set_idx[0][0]\n",
    "        des_state_set_idx_map_state[des_state_set_idx].add(state)\n",
    "        \n",
    "      if len(des_state_set_idx_map_state) > 1:\n",
    "        for state_set in des_state_set_idx_map_state.values():\n",
    "          set_idx = min(state_set)\n",
    "          set_graph[set_idx] = 0\n",
    "          set_graph[set_idx][list(state_set)] = 1  \n",
    "  state_sets = state_graph_to_set(set_graph)\n",
    "  #print(state_sets)\n",
    "  return state_sets\n",
    "\n",
    "\n",
    "def graph_list(matrix):\n",
    "  state_num = len(matrix[0])\n",
    "  graph_dict = defaultdict(set)\n",
    "  for i in range(state_num):\n",
    "    for j in range(len(matrix[i])):\n",
    "      if matrix[i][j] != 0:\n",
    "        graph_dict[i].add((j))\n",
    "        edges_label[(i,j)].add(matrix[i][j])\n",
    "  return graph_dict\n",
    "\n",
    "def graph_list_reverse(matrix):\n",
    "  state_num = len(matrix[0])\n",
    "  graph_dict_reverse = defaultdict(list)\n",
    "  for i in range(state_num):\n",
    "    for j in range(len(matrix[i])):\n",
    "      if matrix[i][j] != 0:\n",
    "        graph_dict_reverse[j].append((i, matrix[i][j]))\n",
    "  return graph_dict_reverse\n",
    "\n",
    "def graph_list_to_matrix(graph_dict,edges_label):\n",
    "  matrix = np.zeros((len(graph_dict),len(graph_dict)))\n",
    "  for from_node in graph_dict:\n",
    "    for to_node in graph_dict[from_node]:\n",
    "      matrix[from_node][to_node] = len(edges_label[(from_node,to_node)])\n",
    "  return matrix\n",
    "\n",
    "\n",
    "def state_merge(x_dict,equivalence_class):\n",
    "  for state_set in equivalence_class:\n",
    "    set_list = list(state_set)\n",
    "    saved_state = set_list[0]\n",
    "\n",
    "    #remove all outgoing edges in removed_state\n",
    "    for removed_state in set_list[1:]:\n",
    "      for out_state in x_dict[removed_state]:\n",
    "        edges_label.pop((removed_state,out_state))\n",
    "\n",
    "      #redirect incoming edges of removed_state to saved_state\n",
    "      all_points_from = [pointsFrom for (pointsFrom, pointsTo) in x_dict.items() if removed_state in pointsTo]\n",
    "      for point_from in all_points_from:\n",
    "        x_dict[point_from].remove(removed_state)\n",
    "        x_dict[point_from].add(saved_state)\n",
    "        edges_label[(point_from,saved_state)].update(edges_label[(point_from,removed_state)])\n",
    "        edges_label.pop((point_from,removed_state))\n",
    "\n",
    "      #remove removed_state\n",
    "      x_dict.pop(removed_state)\n",
    "\n",
    "\n",
    "\n",
    "def state_merge_follower_sets(x_dict,follower_sets):\n",
    "  for saved_state in follower_sets:\n",
    "    set_list = list(follower_sets[saved_state])\n",
    "    #print(set_list)\n",
    "    #remove all outgoing edges in removed_state\n",
    "    for removed_state in set_list:\n",
    "      for out_state in x_dict[removed_state]:\n",
    "        edges_label.pop((removed_state,out_state))\n",
    "\n",
    "      #redirect incoming edges of removed_state to saved_state\n",
    "      all_points_from = [pointsFrom for (pointsFrom, pointsTo) in x_dict.items() if removed_state in pointsTo]\n",
    "      for point_from in all_points_from:\n",
    "        x_dict[point_from].remove(removed_state)\n",
    "        x_dict[point_from].add(saved_state)\n",
    "        edges_label[(point_from,saved_state)].update(edges_label[(point_from,removed_state)])\n",
    "        edges_label.pop((point_from,removed_state))\n",
    "\n",
    "      #remove removed_state\n",
    "      x_dict.pop(removed_state)\n",
    "\n",
    "\n",
    "\n",
    "def make_follower_sets(node_set):\n",
    "  node_list = list(node_set)\n",
    "  visited = set()\n",
    "  follower_sets = defaultdict(set)\n",
    "  for i in range(len(node_list)):\n",
    "    A = node_list[i]\n",
    "    if A not in visited:\n",
    "      for j in range(i,len(node_list)):\n",
    "        B = node_list[j]\n",
    "        if B not in visited:\n",
    "          if approximate_eigenvalues[A] != approximate_eigenvalues[B]:\n",
    "             dir = -1\n",
    "          else:\n",
    "             dir = subset(A,B)\n",
    "          if dir == 1 or dir == 0:\n",
    "            follower_sets[A].add(B)\n",
    "            if B in follower_sets.keys():\n",
    "              follower_sets[A].update(follower_sets[B])\n",
    "              follower_sets.pop(B)\n",
    "            visited.add(B)\n",
    "          if dir == 2:\n",
    "            follower_sets[B].add(A)\n",
    "            if A in follower_sets.keys():\n",
    "              follower_sets[B].update(follower_sets[A])\n",
    "              follower_sets.pop(A)\n",
    "            visited.add(A)\n",
    "          if dir == -1:\n",
    "            follower_sets[B].update(set())\n",
    "            follower_sets[A].update(set())\n",
    "  return follower_sets   \n",
    "\n",
    "\n",
    "\n",
    "def make_follow_set_graph(x_dict):\n",
    "  for from_node in x_dict:\n",
    "    for to_node in x_dict[from_node]:\n",
    "      labels = edges_label[(from_node, to_node)]\n",
    "      for label in labels:\n",
    "        label_list.add(label)\n",
    "        follow_set_graph[(from_node, label)] = to_node\n",
    "\n",
    "\n",
    "\n",
    "def subset(A,B):\n",
    "  belong_dir = 0 # 1:A is bigger A->B, 2: B->A\n",
    "  for i in range(len(label_list)):\n",
    "    if (A, label_list[i]) not in follow_set_graph and (B, label_list[i]) not in follow_set_graph:\n",
    "      continue\n",
    "    if (A, label_list[i]) not in follow_set_graph: #A is empty, B is larger\n",
    "      if belong_dir == 1:\n",
    "        return -1\n",
    "      if belong_dir == 0:\n",
    "        belong_dir = 2\n",
    "    elif (B, label_list[i]) not in follow_set_graph: # B is empty, A is larger\n",
    "      if belong_dir == 2:\n",
    "        return -1\n",
    "      if belong_dir == 0:\n",
    "        belong_dir = 1\n",
    "    elif follow_set_graph[(A, label_list[i])] == follow_set_graph[(B, label_list[i])]:\n",
    "      continue\n",
    "    else:\n",
    "      return -1\n",
    "  return belong_dir\n",
    "\n",
    "\n",
    "\n",
    "\n",
    "def rerange_graph_dict(x_dict,edges_label_new,edges_label):\n",
    "  node_map = {}\n",
    "  new_graph_dict = defaultdict(set)\n",
    "  i = 0\n",
    "  for node in x_dict:\n",
    "    node_map[node] = i\n",
    "    i += 1\n",
    "  \n",
    "  for node in x_dict:\n",
    "    for to_node in x_dict[node]:\n",
    "      new_graph_dict[node_map[node]].add(node_map[to_node])\n",
    "      edges_label_new[(node_map[node],node_map[to_node])].update(edges_label[(node,to_node)])\n",
    "\n",
    "  return new_graph_dict\n",
    "\n",
    "\n",
    "def franaszek(x_graph, ep):\n",
    "  l = len(x_graph)\n",
    "  y = np.array([ep]*l)\n",
    "  x = np.array([0]*l)\n",
    "  n = 256 \n",
    "  while not (x == y).all():\n",
    "    x = y\n",
    "    avgA = np.dot(x_graph,x)/n\n",
    "    avgA = np.floor(avgA)\n",
    "    y = np.minimum(avgA, x)\n",
    "  return y.tolist()\n",
    "\n",
    "def state_split(approximate_eigenvalues, x_dict, edges_label,x_graph):\n",
    "    while not check_finished(x_graph):\n",
    "      if sum(approximate_eigenvalues) == len(approximate_eigenvalues):\n",
    "        break\n",
    "      max_x = max(approximate_eigenvalues)\n",
    "      pos = [i for i, j in enumerate(approximate_eigenvalues) if j == max_x]\n",
    "      node = pos[0]\n",
    "      m = np.count_nonzero(x_graph[node])\n",
    "      xm = np.nonzero(x_graph[node])[0]\n",
    "      theta = [0]*m\n",
    "      theta[0] = x_graph[node,xm[0]]*approximate_eigenvalues[xm[0]]\n",
    "      bound = 0\n",
    "      mod_map = {}\n",
    "      for i in range(1,m):\n",
    "        theta[i] = theta[i-1] + x_graph[node,xm[i]]*approximate_eigenvalues[xm[i]]\n",
    "        mod = theta[i]%total_outout_degree\n",
    "        if theta[i]%total_outout_degree == 0:\n",
    "          bound = i\n",
    "          break\n",
    "        else:\n",
    "          if mod in mod_map:\n",
    "            bound = -1\n",
    "            m1 = mod_map[mod]\n",
    "            m2 = i\n",
    "            break\n",
    "          mod_map[mod] = i\n",
    "      if bound > 0:\n",
    "        e1 = [j for i,j in enumerate(xm) if i <= bound]\n",
    "        e2 = [j for i,j in enumerate(xm) if i > bound]\n",
    "      elif bound < 0:\n",
    "        e1 = [j for i,j in enumerate(xm) if m1< i <= m2]\n",
    "        e2 = [j for i,j in enumerate(xm) if i <= m1 or i > m2]\n",
    "      else:\n",
    "        print(\"wrong!!!!!!!!\")\n",
    "        return []\n",
    "     # ttt1 = 0\n",
    "     # for e11 in e1:\n",
    "     #   ttt1 += x_graph[node,e11]*approximate_eigenvalues[e11]\n",
    "     # print(ttt1)\n",
    "\n",
    "     # ttt2 = 0\n",
    "     # for e22 in e2:\n",
    "     #   ttt2 += x_graph[node,e22]*approximate_eigenvalues[e22]\n",
    "\n",
    "      x_dict = split(node,e1,e2,x_dict,edges_label,x_graph,approximate_eigenvalues)  \n",
    "      x_graph = graph_list_to_matrix(x_dict,edges_label)\n",
    "    return x_graph\n",
    "\n",
    "\n",
    "def split(node,e1,e2,x_dict,edges_label,x_graph,approximate_eigenvalues):\n",
    "  #case 1:\n",
    "  current_node_idx = len(x_dict)\n",
    "  approximate_eigenvalues.append(1)\n",
    "  approximate_eigenvalues[node] = 1\n",
    "  from_nodes = np.nonzero(x_graph[:,node])[0]\n",
    "  for from_node in from_nodes:\n",
    "    x_dict[from_node].add(current_node_idx)\n",
    "    edges_label[(from_node,current_node_idx)].update(edges_label[(from_node,node)])\n",
    "\n",
    "  #case 2:\n",
    "  for to_node in e2:\n",
    "    if to_node != node:\n",
    "      x_dict[current_node_idx].add(to_node)\n",
    "      edges_label[(current_node_idx,to_node)].update(edges_label[(node,to_node)])\n",
    "      \n",
    "      x_dict[node].remove(to_node)\n",
    "      edges_label.pop((node,to_node))\n",
    "  #case 3:\n",
    "  for to_node in e1:\n",
    "    if to_node == node:\n",
    "      x_dict[node].add(current_node_idx)\n",
    "      edges_label[(node,current_node_idx)].update(edges_label[(node,to_node)])\n",
    "\n",
    "  for to_node in e2:\n",
    "    if to_node == node:\n",
    "      x_dict[current_node_idx].add(node)\n",
    "      edges_label[(current_node_idx,node)].update(edges_label[(node,node)])\n",
    "      x_dict[current_node_idx].add(current_node_idx)\n",
    "      edges_label[(current_node_idx,current_node_idx)].update(edges_label[(node,node)])\n",
    "\n",
    "      x_dict[node].remove(node)\n",
    "      edges_label.pop((node,node))\n",
    "  return x_dict\n",
    "\n",
    "def check_finished(x_graph):\n",
    "  for node in range(len(x_graph)):\n",
    "    if(sum(x_graph[node]) < total_outout_degree):\n",
    "      return False\n",
    "  return True\n",
    "\n",
    "def encoder_fun(input_data,encoder_labels_list,currentState):\n",
    "  real_path.append(currentState)\n",
    "  codeword = dict()\n",
    "  for input_data_idx in range(len(input_data)):\n",
    "    input_label = input_data[input_data_idx]\n",
    "    encoder_labels_map = encoder_labels_list[currentState]\n",
    "    output_label = encoder_labels_map[input_label][0]\n",
    "    codeword[input_data_idx] = output_label\n",
    "    currentState = encoder_labels_map[input_label][1]\n",
    "    real_path.append(currentState)\n",
    "  return codeword\n",
    "\n",
    "def c2number(dna_str):\n",
    "  dna_num = 0\n",
    "  for c in dna_str:\n",
    "    if c == 'A':\n",
    "      dna_num = dna_num*10 + 1\n",
    "    elif c == 'C': \n",
    "      dna_num = dna_num*10 + 2\n",
    "    elif c == 'G': \n",
    "      dna_num = dna_num*10 + 3\n",
    "    elif c == 'T': \n",
    "      dna_num = dna_num*10 + 4\n",
    "  return dna_num\n",
    "\n",
    "def number2str(dna_num):\n",
    "  dna_str = \"\"\n",
    "  while(dna_num > 0):\n",
    "    n = dna_num%10\n",
    "    dna_num //= 10\n",
    "    if n == 1:\n",
    "      dna_str = 'A' + dna_str  \n",
    "    elif n == 2:\n",
    "      dna_str = 'C' + dna_str\n",
    "    elif n == 3:\n",
    "      dna_str = 'G' + dna_str\n",
    "    elif n == 4:\n",
    "      dna_str = 'T' + dna_str\n",
    "  return dna_str\n",
    "\n",
    "def channel(codewrd_str,mus, sigmas, sigma_var):\n",
    "  kmer = 6\n",
    "  c = \"\"\n",
    "  signal_arr = dict()\n",
    "  code_idx = 0\n",
    "  for i in range(len(codewrd_str)- kmer+1):\n",
    "    c = codewrd_str[i:i+6]\n",
    "    code_num = c2number(c)\n",
    "    mu = mus[code_num]\n",
    "    sigma = sigmas[code_num]\n",
    "    s = np.random.normal(mu, sigma*sigma_var, 1)\n",
    "    signal_arr[code_idx] = s[0]\n",
    "    code_idx += 1\n",
    "  return list(signal_arr.values())\n",
    "\n",
    "def channel_del(codewrd_str, del_rate):\n",
    "    new_codewrd = [codewrd_str[0]]\n",
    "    for idx in range(1,len(codewrd_str)):\n",
    "        rad_num = np.random.random(1)[0]\n",
    "        # if (rad_num > del_rate or idx < 5) and idx != 2:\n",
    "        if idx == 2:\n",
    "          del_pos.append(idx)\n",
    "        elif (rad_num > del_rate or (idx - del_pos[-1] <=5)) :\n",
    "            new_codewrd.append(codewrd_str[idx])\n",
    "        else:\n",
    "          del_pos.append(idx)\n",
    "    return new_codewrd\n",
    "\n",
    "# def channel_delSig(signal_arr, del_rate):\n",
    "#     new_codewrd = []\n",
    "#     for idx in range(len(codewrd_str)):\n",
    "#         rad_num = np.random.random(1)[0]\n",
    "#         if rad_num > del_rate and idx != 7:\n",
    "#             new_codewrd.append(codewrd_str[idx])\n",
    "#         else:\n",
    "#           del_pos.append(idx)\n",
    "#     return new_codewrd"
   ]
  },
  {
   "cell_type": "code",
   "execution_count": 2,
   "metadata": {},
   "outputs": [
    {
     "output_type": "stream",
     "name": "stdout",
     "text": [
      "(2021, 2021)\n",
      "initial sets number\n",
      "211\n",
      "[2.0, 2.0, 2.0, 2.0, 2.0, 2.0, 2.0, 2.0, 2.0, 2.0, 1.0, 2.0, 1.0, 1.0, 1.0, 1.0, 1.0, 2.0, 2.0, 2.0, 1.0, 1.0, 1.0, 2.0, 1.0, 1.0, 2.0, 1.0, 1.0, 1.0, 2.0, 2.0, 2.0, 2.0, 1.0, 1.0, 1.0, 2.0, 2.0, 2.0, 2.0, 2.0, 2.0, 1.0, 2.0, 2.0, 2.0, 1.0, 1.0, 1.0, 2.0, 2.0, 1.0, 2.0, 1.0, 1.0, 2.0, 2.0, 2.0, 1.0, 1.0, 2.0, 2.0, 1.0, 1.0, 1.0, 1.0, 1.0, 2.0, 1.0, 1.0, 1.0, 1.0, 1.0, 1.0, 2.0, 2.0, 2.0, 2.0, 1.0, 2.0, 1.0, 2.0, 1.0, 2.0, 2.0, 1.0, 1.0, 1.0, 2.0, 1.0, 1.0, 2.0, 1.0, 1.0, 2.0, 1.0, 1.0, 2.0, 1.0, 2.0, 2.0, 1.0, 2.0, 2.0, 2.0, 2.0, 1.0, 2.0, 1.0, 2.0, 1.0, 2.0, 2.0, 1.0, 1.0]\n"
     ]
    }
   ],
   "source": [
    "import numpy as np\n",
    "import pandas as pd\n",
    "total_state_num = 4096\n",
    "total_outout_degree = 256\n",
    "x  = pd.read_csv(\"matrix.csv\",header=None).to_numpy();\n",
    "print(x.shape)\n",
    "edges_label = defaultdict(set)\n",
    "x_dict = graph_list(x)\n",
    "\n",
    "equivalence_class = moore_algorithm(x_dict)\n",
    "state_merge(x_dict,equivalence_class)\n",
    "\n",
    "edges_label_new = defaultdict(set)\n",
    "x_dict = rerange_graph_dict(x_dict,edges_label_new,edges_label)\n",
    "edges_label = edges_label_new\n",
    "\n",
    "x_graph = graph_list_to_matrix(x_dict,edges_label)\n",
    "approximate_eigenvalues = []\n",
    "approximate_eigenvalues = franaszek(x_graph, 2)\n",
    "follow_set_graph = dict() # (from_node, label): to_node \n",
    "label_list = set()\n",
    "make_follow_set_graph(x_dict)\n",
    "label_list = list(label_list)\n",
    "# merge follower set\n",
    "follower_sets_1 = make_follower_sets(x_dict.keys())\n",
    "state_merge_follower_sets(x_dict,follower_sets_1)\n",
    "\n",
    "edges_label_new = defaultdict(set)\n",
    "x_dict = rerange_graph_dict(x_dict,edges_label_new,edges_label)\n",
    "edges_label = edges_label_new\n",
    "x_graph = graph_list_to_matrix(x_dict,edges_label)\n",
    "approximate_eigenvalues = franaszek(x_graph, 2)\n",
    "print(approximate_eigenvalues)"
   ]
  },
  {
   "cell_type": "code",
   "execution_count": 3,
   "metadata": {},
   "outputs": [
    {
     "output_type": "stream",
     "name": "stdout",
     "text": [
      "261.0\n"
     ]
    }
   ],
   "source": [
    "x_graph = state_split(approximate_eigenvalues, x_dict, edges_label,x_graph)\n",
    "\n",
    "print(np.sum(x_graph[2,:]))\n",
    "# encoder_labels_list<map<input, output>>, list size : number of state.  map size: 256\n",
    "encoder_labels_list = dict()\n",
    "for i in range(len(x_graph)):\n",
    "  total_outout_degree\n",
    "  out_degree = 0\n",
    "  encoder_labels_map = []\n",
    "  for j in range(len(x_graph)):\n",
    "    if x_graph[i,j] != 0 and out_degree < total_outout_degree:\n",
    "      edges = edges_label[i,j]\n",
    "      for edge in edges:\n",
    "        if out_degree < total_outout_degree:\n",
    "          encoder_labels_map.append([edge,j])\n",
    "          out_degree += 1\n",
    "  encoder_labels_list[i] = encoder_labels_map"
   ]
  },
  {
   "cell_type": "code",
   "execution_count": 4,
   "metadata": {},
   "outputs": [],
   "source": [
    "file1 = open('kmer.txt', 'r') \n",
    "count = 0\n",
    "mus = dict()\n",
    "sigmas = dict()\n",
    "while True: \n",
    "    count += 1\n",
    "    # Get next line from file \n",
    "    line = file1.readline() \n",
    "    if not line: \n",
    "        break\n",
    "    l = line.split()\n",
    "    dna_num = c2number(l[0])\n",
    "    mus[dna_num] = float(l[1])\n",
    "    sigmas[dna_num] = float(l[2])\n",
    "file1.close() "
   ]
  },
  {
   "cell_type": "code",
   "execution_count": 5,
   "metadata": {},
   "outputs": [],
   "source": [
    "\n",
    "\n",
    "def array2num(array):\n",
    "    num = 0\n",
    "    for idx in range(len(array)):\n",
    "        num = num*10 + array[idx]\n",
    "    return num\n",
    "\n",
    "def char_freq(codewords):\n",
    "    c_counter = dict()\n",
    "    for c_word in codewords:\n",
    "        for idx in range(len(c_word)):\n",
    "            tup = tuple(c_word[0:idx+1])\n",
    "            c_counter[tup] = c_counter.get(tup, 0)+1\n",
    "    return c_counter\n",
    "    \n",
    "def cal_pro(c_counter,c_word,codewords_num):\n",
    "    p_pre = 1\n",
    "    p_cs = []\n",
    "    for idx in range(len(c_word)):\n",
    "        p_union = c_counter[tuple(c_word[0:idx+1])]/(codewords_num)\n",
    "        p_c = (p_union)/p_pre\n",
    "        p_pre = p_union\n",
    "        p_cs.append(p_c) \n",
    "    return p_cs\n",
    "def num2array(num):\n",
    "    array = []\n",
    "    while num > 0:\n",
    "        array.append(num%10)\n",
    "        num //= 10\n",
    "    return array[::-1] "
   ]
  },
  {
   "cell_type": "code",
   "execution_count": 6,
   "metadata": {},
   "outputs": [],
   "source": [
    "from scipy import stats\n",
    "import math \n",
    "def dp_score(prefix_label, cur_label, signal, mus, sigmas, sigma_var, deleRate ,next_state):\n",
    "    fade = 1\n",
    "    matrix_len = len(signal) + 1\n",
    "    dp_matrix = np.zeros([matrix_len, matrix_len])\n",
    "    dp_matrix[0,0] = 1\n",
    "    delAlpha = 0.005\n",
    "    for i in range(1,matrix_len):\n",
    "        dp_matrix[i,0] = 1\n",
    "        # dp_matrix[0,i] = p_cs[0]*deleRate*dp_matrix[0,i-1]\n",
    "\n",
    "    for strIdx in range(1, matrix_len):\n",
    "        code_num_array = prefix_label[strIdx-1:] + cur_label[0:strIdx]\n",
    "        code_num = array2num(code_num_array)\n",
    "        # if next_state == 58:\n",
    "        #     print(code_num)\n",
    "        for sig_idx in range(1, strIdx + 1):\n",
    "            x = (signal[sig_idx-1] - mus[code_num])/(sigmas[code_num]*sigma_var) \n",
    "            f_a = math.exp(-x**2/2)/math.sqrt(2*math.pi)\n",
    "            sub = f_a*(dp_matrix[strIdx-1,sig_idx-1]**fade)\n",
    "            deli = dp_matrix[strIdx-1,sig_idx]\n",
    "            dp_matrix[strIdx,sig_idx] = max([sub,deli]) \n",
    "\n",
    "\n",
    "    dp_matrix[-1,-2] = dp_matrix[-1,-2]*deleRate*delAlpha;\n",
    "    # if(dp_matrix[-1,-1] >= dp_matrix[-1,-2]*deleRate*delAlpha):\n",
    "    if(dp_matrix[-1,-1] >= dp_matrix[-1,-2]):\n",
    "        maxV = dp_matrix[-1,-1]\n",
    "        del_num = 0\n",
    "    else:\n",
    "        maxV = dp_matrix[-1,-2]\n",
    "        del_num = 1\n",
    "    if maxV < 1.0e-100 or maxV == 0:\n",
    "        maxV = -math.inf\n",
    "        del_num = -1\n",
    "    else:\n",
    "        maxV = math.log(maxV,10)                                \n",
    "    # if next_state == 44:\n",
    "    #     print(\"dp1\",dp_matrix[-1,-1])\n",
    "    #     print(\"dp2\",dp_matrix[-1,-2])\n",
    "    #     np.set_printoptions(precision=3)\n",
    "    #     print(dp_matrix)\n",
    "    #     print(\"cur_label\", cur_label)\n",
    "    #     print(\"prefix_label\", prefix_label)\n",
    "    #     print(\"signal\", signal)\n",
    "    return (maxV,del_num)\n",
    "    "
   ]
  },
  {
   "cell_type": "code",
   "execution_count": 7,
   "metadata": {},
   "outputs": [
    {
     "output_type": "execute_result",
     "data": {
      "text/plain": [
       "(1, 1)"
      ]
     },
     "metadata": {},
     "execution_count": 7
    }
   ],
   "source": [
    " dp_matrix = np.zeros([3, 3])\n",
    " dp_matrix[1][1] = 1\n",
    " np.unravel_index(np.argmax(dp_matrix, axis=None), dp_matrix.shape)"
   ]
  },
  {
   "cell_type": "code",
   "execution_count": 8,
   "metadata": {},
   "outputs": [],
   "source": [
    "message_len = 100\n",
    "input_data = np.random.randint(255, size = message_len)\n",
    "real_path = []\n",
    "currentState = 2\n",
    "codewords = encoder_fun(input_data,encoder_labels_list,currentState)\n",
    "prefix = \"AAAAA\"\n",
    "codewrd_str = \"\"\n",
    "for codeword in codewords.values():\n",
    "    codewrd_str = codewrd_str + number2str(codeword)\n",
    "codewrd_str = prefix + codewrd_str\n",
    "sigma_var = 1\n",
    "del_rate = 0.01\n",
    "del_pos = []\n",
    "# codewrd_str_del = channel_del(codewrd_str, del_rate)\n",
    "signal_arr_sub = channel(codewrd_str,mus, sigmas, sigma_var)\n",
    "signal_arr = channel_del(signal_arr_sub, del_rate)\n"
   ]
  },
  {
   "cell_type": "code",
   "execution_count": 9,
   "metadata": {},
   "outputs": [
    {
     "output_type": "stream",
     "name": "stdout",
     "text": [
      "[2, 117, 134, 264, 301, 397]\n[2, 140, 5, 129, 109, 42, 19, 38, 58, 59, 0, 116, 37, 144, 117, 155, 125, 76, 58, 60, 112, 19, 129, 59, 76, 32, 19, 27, 58, 11, 5, 25, 51, 73, 5, 140, 109, 59, 78, 21, 100, 8, 149, 5, 144, 126, 121, 1, 129, 101, 2, 54, 1, 121, 77, 55, 57, 55, 57, 149, 1, 18, 10, 97, 18, 149, 101, 58, 58, 3, 13, 80, 57, 11, 6, 128, 100, 57, 46, 38, 60, 100, 9, 141, 78, 21, 1, 19, 25, 11, 136, 75, 10, 18, 46, 46, 19, 44, 46, 52, 129]\nAAAAAGTCCGACTATGAGCGCATGAACCTAAACCGACGCTCCATGAACAAGGACAAGACATCGCAGACGGGCGCCTCTGTACTAGGCCGTTCATGAAGAACTGGAACGCGAACCGGACAAGGCGTGTGGTAACCGGACGACTATGCAAGTGGTATCGCGAACCGCGGCAAAATATCTCCGTATGAGACAACATCAAATAAAATTCGAGCATAATCCTCATCACGGGCAGTGGAATAGACCGACCGTGGTGTAACGGTGCTAATCCAGACTGTCTGGTAGGGCCTCATAGGACCTCGAATCTCACCGGTCATAAGGCGAGACGTCATTCTCGTGTGCCATGGTATGGAACTGTAAACCTGGATATCGCAGTGGTCTATTCAGGTTCGCCTCTTCGGTCGCTCAGAACCGTCGCTAGCTCTATATCAAATAAGTGCCAGTCGCGCGACCAGTGCGCAGTCGCGCAGGGTTCACGCGGATCGGGACCGCGGACGTCGGACCTATACCG\n"
     ]
    }
   ],
   "source": [
    "print(del_pos)\n",
    "print(real_path)\n",
    "# print(signal_arr[cur_signal_idx:cur_signal_idx+5])\n",
    "# print(codewrd_str[cur_signal_idx:cur_signal_idx+5])\n",
    "print(codewrd_str)\n",
    "# print(signal_arr)\n",
    "# print(signal_arr_sub)"
   ]
  },
  {
   "cell_type": "code",
   "execution_count": 10,
   "metadata": {},
   "outputs": [
    {
     "output_type": "stream",
     "name": "stdout",
     "text": [
      "AATTCTACTATCAACCCCCAAACTAATAATTTATCCCTTAATTCCCAATACAATCTTATATCCACTTTTCATTCTATATTACTTCTACTTAACACAATTCTCTCTCTCTCTTTTCCTTCTATCTAAATAAATTCATTCCACACCTTCTACAAAATAAACATACAATACCCTTTTTTCACTCACCTAAATTCTCTCAAATCCTACTCAACCATACCTTCACAAATCCTAACACACCAATCCTTTCTCTCTCATACCTCAACATATTTCAATCCCAATATATCATCACCAACATTAACCCAATACACCTTCACCAAAACACTATAAAAATCACCTCCTACACCCACAATACTTCCTTATTTTACCCATTTCTTTTCCCTACCTACTTCCTTCTCACCCTTAAATCACACCATCTCCCTTAAACTACTCAATCCAATATTTCTCTAACTTATCCAATTAAATATTAATCATTTCTTACAAACATCACCTTCTATATACATTATCCATT\n"
     ]
    }
   ],
   "source": [
    "str = \"\"\n",
    "for i in range(505):\n",
    "    input_data = np.random.randint(3, size = 1)\n",
    "    if input_data == 0:\n",
    "        str += 'A'\n",
    "    elif input_data == 1:\n",
    "        str += 'T'\n",
    "    elif input_data == 2:\n",
    "        str += 'C'\n",
    "    elif input_data == 3:\n",
    "        str += 'G'\n",
    "print(str)"
   ]
  },
  {
   "cell_type": "code",
   "execution_count": 11,
   "metadata": {},
   "outputs": [
    {
     "output_type": "stream",
     "name": "stdout",
     "text": [
      "1\n"
     ]
    }
   ],
   "source": [
    "print((input_data[0]))"
   ]
  },
  {
   "cell_type": "code",
   "execution_count": 12,
   "metadata": {},
   "outputs": [
    {
     "output_type": "stream",
     "name": "stdout",
     "text": [
      "(2, 222, 0.2)\n(3, 222, 0.1)\n"
     ]
    }
   ],
   "source": [
    "from queue import PriorityQueue\n",
    "customers = [PriorityQueue()]*2\n",
    "customers[0].put((3,222,0.1))\n",
    "customers[0].put((2,222,0.2))\n",
    "customers[0].put((5,222,0.3))\n",
    "print(customers[0].get())\n",
    "print(customers[0].get())"
   ]
  },
  {
   "cell_type": "code",
   "execution_count": 13,
   "metadata": {},
   "outputs": [
    {
     "output_type": "stream",
     "name": "stdout",
     "text": [
      "signal_idx 0\nGTCCG\nGTCCG\nGTCCG\nprefix realState AAAAA\nprefix errorState AAAAA\nreal_state -6.0561948452870995\nerror_state -6.0561948452870995\n140\n41\n1.0\n1.0\n"
     ]
    }
   ],
   "source": [
    "    dpvalue_graph = np.ones([len(encoder_labels_list), message_len  + 1 ])*(-math.inf)\n",
    "    last_state_graph = np.ones([len(encoder_labels_list), message_len  + 1])*(-math.inf)\n",
    "    prefix_label_graph = np.zeros([len(encoder_labels_list), message_len + 1])\n",
    "    prefix_label_queue = [PriorityQueue()]*len(encoder_labels_list)\n",
    "    delMap = np.zeros([len(encoder_labels_list), message_len + 1])\n",
    "    prefix_label_graph[:,0] = 11111\n",
    "    dpvalue_graph[:,0] = 0\n",
    "\n",
    "    signal_idx = 0\n",
    "    real_state = real_path[signal_idx//5+1]\n",
    "    state_idx = currentState\n",
    "    current_prefix = 11111\n",
    "    encoder_labels_map = encoder_labels_list[state_idx]\n",
    "\n",
    "    max_dpvalue, max_next_state, next_prefix = -math.inf, 0, 0\n",
    "\n",
    "    for label, next_state in encoder_labels_map:\n",
    "        cur_signal_idx = int(signal_idx - delMap[state_idx,signal_idx//5])\n",
    "        label_array = num2array(label)\n",
    "        current_prefix_array = num2array(current_prefix)\n",
    "        dpvalue,del_num = dp_score(current_prefix_array, label_array , signal_arr[cur_signal_idx:cur_signal_idx+5], mus, sigmas, sigma_var, del_rate, next_state)\n",
    "        prefix_label_queue[next_state].put((-dpvalue, label, state_idx, del_num))\n",
    "        if dpvalue > dpvalue_graph[next_state, signal_idx//5 + 1]:\n",
    "            dpvalue_graph[next_state, signal_idx//5 + 1] = dpvalue\n",
    "            last_state_graph[next_state, signal_idx//5 + 1] = state_idx\n",
    "            prefix_label_graph[next_state, signal_idx//5 + 1] = label\n",
    "            delMap[next_state,signal_idx//5 + 1] = delMap[state_idx,signal_idx//5] + del_num\n",
    "    error_state = dpvalue_graph[:,signal_idx//5+1].argmax()\n",
    "    # if number2str(prefix_label_graph[real_state,signal_idx//5+1]) != number2str(codewords[signal_idx//5]):\n",
    "    if 2 > 1 :\n",
    "        print('signal_idx',signal_idx)\n",
    "        print(number2str(codewords[signal_idx//5]))\n",
    "        print(number2str(prefix_label_graph[real_state,signal_idx//5+1]))\n",
    "        print(number2str(prefix_label_graph[error_state,signal_idx//5+1]))\n",
    "\n",
    "        print(\"prefix realState\", number2str(prefix_label_graph[real_state,signal_idx//5]))\n",
    "        print(\"prefix errorState\", number2str(prefix_label_graph[error_state,signal_idx//5]))\n",
    "        print(\"real_state\",dpvalue_graph[real_state,signal_idx//5+1])\n",
    "        print(\"error_state\",dpvalue_graph[error_state,signal_idx//5+1])\n",
    "        print(real_state)\n",
    "        print(error_state)\n",
    "        print(delMap[real_state  ,signal_idx//5+1])\n",
    "        print(delMap[error_state   ,signal_idx//5+1])\n",
    "        # print(\"error\")\n"
   ]
  },
  {
   "cell_type": "code",
   "execution_count": 46,
   "metadata": {},
   "outputs": [
    {
     "output_type": "stream",
     "name": "stdout",
     "text": [
      "(48.85463132352006, 32413, 63, 0)\n0\n"
     ]
    }
   ],
   "source": [
    "print(prefix_label_queue[0].get())\n",
    "[a, b, c, d] = prefix_label_queue[0].get()\n",
    "print(d)"
   ]
  },
  {
   "cell_type": "code",
   "execution_count": 87,
   "metadata": {
    "tags": []
   },
   "outputs": [
    {
     "output_type": "stream",
     "name": "stdout",
     "text": [
      "signal_idx 5\n",
      "signal_idx 5\n",
      "GTCAT\n",
      "GTCAT\n",
      "GTCTC\n",
      "real last state 13\n",
      "error last state 2\n",
      "prefix realState \n",
      "prefix errorState \n",
      "real_state -11.35570623461156\n",
      "error_state -9.415443838276575\n",
      "5\n",
      "57\n",
      "0.0\n",
      "0.0\n"
     ]
    }
   ],
   "source": [
    "error_num = 0\n",
    "# for signal_idx in range(5,len(codewrd_str)-5, 5):\n",
    "for signal_idx in range(5,10,5):\n",
    "    #iterate all states\n",
    "    print('signal_idx',signal_idx)\n",
    "    real_state = real_path[signal_idx//5 + 1]\n",
    "    temp_prefix_label_queue = prefix_label_queue\n",
    "    prefix_label_queue = [PriorityQueue()]*len(encoder_labels_list)\n",
    "    for state_idx in range(len(encoder_labels_list)):\n",
    "        encoder_labels_map = encoder_labels_list[state_idx]\n",
    "        for prefixIdx in range(1): # iterate 10 prefix\n",
    "            [pre_dpvalue, current_prefix, pre_state_idx, pre_del_num] = temp_prefix_label_queue[state_idx].get()\n",
    "            pre_dpvalue = -pre_dpvalue\n",
    "            if current_prefix == 0:\n",
    "                continue\n",
    "            current_prefix_array = num2array(current_prefix)\n",
    "            cur_signal_idx = int(signal_idx - pre_del_num)\n",
    "        \n",
    "            max_dpvalue, max_next_state, next_prefix = -math.inf, 0, 0\n",
    "            #for everystate, find the closed label to the current signal\n",
    "            for label, next_state in encoder_labels_map:    \n",
    "                label_array = num2array(label)\n",
    "                dpvalue,del_num = dp_score(current_prefix_array, label_array , signal_arr[cur_signal_idx:cur_signal_idx+5], mus, sigmas, sigma_var, del_rate ,next_state)\n",
    "                dpvalue = dpvalue + pre_dpvalue\n",
    "                prefix_label_queue[next_state].put((-dpvalue, label, state_idx, pre_del_num + del_num))\n",
    "                if dpvalue > dpvalue_graph[next_state, signal_idx//5 + 1]:\n",
    "                    dpvalue_graph[next_state, signal_idx//5 + 1] = dpvalue\n",
    "                    last_state_graph[next_state, signal_idx//5 + 1] = state_idx\n",
    "                    prefix_label_graph[next_state, signal_idx//5 + 1] = label\n",
    "                    delMap[next_state,signal_idx//5 + 1] = delMap[state_idx,signal_idx//5] + del_num\n",
    "    error_state = dpvalue_graph[:,signal_idx//5+1].argmax()\n",
    "    # delMap[:,signal_idx//5 + 1].fill(delMap[error_state   ,signal_idx//5+1])\n",
    "    # if codewords[signal_idx//5] not in prefix_label_graph[:,signal_idx//5+1]:\n",
    "    # if number2str(prefix_label_graph[real_state,signal_idx//5+1]) != number2str(codewords[signal_idx//5]):\n",
    "    if 2>1:\n",
    "        print('signal_idx',signal_idx)\n",
    "        print(number2str(codewords[signal_idx//5]))\n",
    "        print(number2str(prefix_label_graph[real_state,signal_idx//5+1]))\n",
    "        print(number2str(prefix_label_graph[error_state,signal_idx//5+1]))\n",
    "\n",
    "        realLastState = int(last_state_graph[real_state, signal_idx//5+1])\n",
    "        errorLastState = int(last_state_graph[error_state, signal_idx//5+1])\n",
    "        print(\"real last state\", realLastState)\n",
    "        print(\"error last state\", errorLastState)\n",
    "        print(\"prefix realState\", number2str(prefix_label_graph[realLastState, signal_idx//5]))\n",
    "        print(\"prefix errorState\", number2str(prefix_label_graph[errorLastState, signal_idx//5]))\n",
    "        print(\"real_state\",dpvalue_graph[real_state,signal_idx//5+1])\n",
    "        print(\"error_state\",dpvalue_graph[error_state,signal_idx//5+1])\n",
    "        print(real_state)\n",
    "        print(error_state)\n",
    "        print(delMap[real_state  ,signal_idx//5+1])\n",
    "        print(delMap[error_state   ,signal_idx//5+1])\n",
    "        if number2str(prefix_label_graph[real_state,signal_idx//5+1]) != number2str(codewords[signal_idx//5]):\n",
    "            print(\"error\")\n",
    "            # break\n",
    "\n",
    "    # results = np.where(prefix_label_graph[:,signal_idx//5+1] == codewords[signal_idx//5])\n",
    "    # # print(results[0])\n",
    "    # if len(results[0]) > 0:\n",
    "    #     print(\"results\",results[0])\n",
    "    # else:\n",
    "    #     error_num += 1\n",
    "    #     print(\"mistakes\",error_num)\n",
    "    #     # break"
   ]
  },
  {
   "cell_type": "code",
   "execution_count": 14,
   "metadata": {},
   "outputs": [
    {
     "output_type": "stream",
     "name": "stdout",
     "text": [
      "signal_idx 5\n",
      "signal_idx 10\n"
     ]
    }
   ],
   "source": [
    "error_num = 0\n",
    "for signal_idx in range(5,len(codewrd_str)-5, 5):\n",
    "# for signal_idx in range(5,20,5):\n",
    "    print('signal_idx',signal_idx)\n",
    "    real_state = real_path[signal_idx//5+1]\n",
    "    temp_prefix_label_queue = prefix_label_queue\n",
    "    # prefix_label_queue = [PriorityQueue()]*len(encoder_labels_list)\n",
    "    for state_idx in range(len(encoder_labels_list)):\n",
    "        [pre_dpvalue, current_prefix, pre_state_idx, pre_del_num] = temp_prefix_label_queue[state_idx].get()\n",
    "        # print(current_prefix)\n",
    "        # current_prefix = (prefix_label_graph[state_idx,signal_idx//5])\n",
    "        cur_signal_idx = int(signal_idx - pre_del_num)\n",
    "        current_prefix_array = num2array(current_prefix)\n",
    "        if current_prefix == 0:\n",
    "            continue\n",
    "        encoder_labels_map = encoder_labels_list[state_idx]\n",
    "\n",
    "        max_dpvalue, max_next_state, next_prefix = -math.inf, 0, 0\n",
    "        #for everystate, find the closed label to the current signal\n",
    "\n",
    "        for label, next_state in encoder_labels_map:\n",
    "            label_array = num2array(label)\n",
    "            dpvalue,del_num = dp_score(current_prefix_array, label_array , signal_arr[cur_signal_idx:cur_signal_idx+5], mus, sigmas, sigma_var, del_rate ,next_state)\n",
    "            # dpvalue = dpvalue + dpvalue_graph[state_idx, signal_idx//5]\n",
    "            dpvalue = dpvalue - pre_dpvalue\n",
    "            # prefix_label_queue[next_state].put((-dpvalue, label, state_idx, pre_del_num + del_num))\n",
    "            if dpvalue > dpvalue_graph[next_state, signal_idx//5 + 1]:\n",
    "                dpvalue_graph[next_state, signal_idx//5 + 1] = (dpvalue)\n",
    "                last_state_graph[next_state, signal_idx//5 + 1] = int(state_idx)\n",
    "                prefix_label_graph[next_state, signal_idx//5 + 1] = int(label)\n",
    "                delMap[next_state,signal_idx//5 + 1] = delMap[state_idx,signal_idx//5] + del_num\n",
    "    error_state = dpvalue_graph[:,signal_idx//5+1].argmax()\n",
    "    if 2>1:\n",
    "        # print('signal_idx',signal_idx)\n",
    "        # print(number2str(codewords[signal_idx//5]))\n",
    "        # print(number2str(prefix_label_graph[real_state,signal_idx//5+1]))\n",
    "        # print(number2str(prefix_label_graph[error_state,signal_idx//5+1]))\n",
    "\n",
    "        # realLastState = int(last_state_graph[real_state, signal_idx//5+1])\n",
    "        # errorLastState = int(last_state_graph[error_state, signal_idx//5+1])\n",
    "        # print(\"real last state\", realLastState)\n",
    "        # print(\"error last state\", errorLastState)\n",
    "        # print(\"prefix realState\", number2str(prefix_label_graph[realLastState, signal_idx//5]))\n",
    "        # print(\"prefix errorState\", number2str(prefix_label_graph[errorLastState, signal_idx//5]))\n",
    "        # print(\"real_state\",dpvalue_graph[real_state,signal_idx//5+1])\n",
    "        # print(\"error_state\",dpvalue_graph[error_state,signal_idx//5+1])\n",
    "        # print(real_state)\n",
    "        # print(error_state)\n",
    "        # print(delMap[real_state  ,signal_idx//5+1])\n",
    "        # print(delMap[error_state   ,signal_idx//5+1])\n",
    "        if number2str(prefix_label_graph[real_state,signal_idx//5+1]) != number2str(codewords[signal_idx//5]):\n",
    "            print(\"error\")\n",
    "            # break"
   ]
  },
  {
   "cell_type": "code",
   "execution_count": null,
   "metadata": {},
   "outputs": [],
   "source": [
    "# prefix_label_queue[26].queue\n",
    "print(number2str(33223))"
   ]
  },
  {
   "cell_type": "code",
   "execution_count": 55,
   "metadata": {},
   "outputs": [
    {
     "output_type": "stream",
     "name": "stdout",
     "text": [
      "signal_idx 0\nGGCCT\nGGCCT\nGGCCG\nprefix realState AAAAA\nprefix errorState AAAAA\nreal_state -6.394486577147643\nerror_state -6.391132668595776\n26\n41\n1.0\n1.0\n"
     ]
    }
   ],
   "source": [
    "        print('signal_idx',signal_idx)\n",
    "        print(number2str(codewords[signal_idx//5]))\n",
    "        print(number2str(prefix_label_graph[real_state,signal_idx//5+1]))\n",
    "        print(number2str(prefix_label_graph[error_state,signal_idx//5+1]))\n",
    "\n",
    "        print(\"prefix realState\", number2str(prefix_label_graph[real_state,signal_idx//5]))\n",
    "        print(\"prefix errorState\", number2str(prefix_label_graph[error_state,signal_idx//5]))\n",
    "        print(\"real_state\",dpvalue_graph[real_state,signal_idx//5+1])\n",
    "        print(\"error_state\",dpvalue_graph[error_state,signal_idx//5+1])\n",
    "        print(real_state)\n",
    "        print(error_state)\n",
    "        print(delMap[real_state  ,signal_idx//5+1])\n",
    "        print(delMap[error_state   ,signal_idx//5+1])"
   ]
  },
  {
   "cell_type": "code",
   "execution_count": 27,
   "metadata": {},
   "outputs": [
    {
     "output_type": "stream",
     "name": "stdout",
     "text": [
      "[41134. 34214. 34242. 21314. 43243. 21312. 21312. 41324. 41312. 11223.\n 11221. 34241. 24224. 21112. 42442. 11121. 21333. 21112. 41112. 21134.\n 24322. 21112. 43314. 11243. 34213. 33231. 33224. 31231. 12213. 12432.\n 14111. 42324. 34334. 24224. 24224. 14232. 14111. 12321. 12324. 42412.\n 43132. 33223. 31241. 34211. 34312. 14111. 33233. 11212. 12142. 21112.\n 12131. 33232. 12241. 43112. 12124. 14111. 12141. 31242. 12143. 31211.\n 12311. 41314. 41324. 41324. 43413. 42442. 21132. 21112. 33324. 43432.\n 21333. 21131. 14232. 33211. 33213. 31232. 11121. 41312. 41324. 41112.\n 41112. 21333. 21132. 13114. 41123. 21112. 21112. 21112. 21333. 21132.\n 43411. 43243. 41424. 41424. 21112. 21112. 43243. 43243. 43243. 41121.\n 11112. 11311. 21314. 43243. 21132. 21132. 41134. 43243. 43243. 21314.\n 21314. 21112. 23212. 23212. 21112. 34111. 42442. 43243. 43123. 34243.\n 34243. 21132. 21132. 41134. 41121. 43411. 21112. 43411. 43411. 43243.\n 11243. 33224. 21331. 42442. 34334. 41112. 12321. 12324. 21123. 43132.\n 33223. 31241. 34312. 13324. 33233. 12131. 33232. 43112. 12141. 31242.\n 12143. 41314. 21332. 33324. 31232. 42442. 41134. 41134. 41121. 21112.\n 41134. 34113. 32131. 41312. 41312. 14113. 32111.]\n"
     ]
    }
   ],
   "source": [
    "print(prefix_label_graph[:, signal_idx//5])"
   ]
  },
  {
   "cell_type": "code",
   "execution_count": 150,
   "metadata": {},
   "outputs": [
    {
     "output_type": "error",
     "ename": "IndexError",
     "evalue": "index 101 is out of bounds for axis 1 with size 101",
     "traceback": [
      "\u001b[1;31m---------------------------------------------------------------------------\u001b[0m",
      "\u001b[1;31mIndexError\u001b[0m                                Traceback (most recent call last)",
      "\u001b[1;32m<ipython-input-150-6d58b574a90e>\u001b[0m in \u001b[0;36m<module>\u001b[1;34m\u001b[0m\n\u001b[0;32m      1\u001b[0m \u001b[0mdpvalue_graph\u001b[0m\u001b[1;33m[\u001b[0m\u001b[1;33m:\u001b[0m\u001b[1;33m,\u001b[0m\u001b[1;36m100\u001b[0m\u001b[1;33m:\u001b[0m\u001b[1;33m]\u001b[0m \u001b[1;33m=\u001b[0m \u001b[1;33m-\u001b[0m\u001b[0mmath\u001b[0m\u001b[1;33m.\u001b[0m\u001b[0minf\u001b[0m\u001b[1;33m\u001b[0m\u001b[1;33m\u001b[0m\u001b[0m\n\u001b[1;32m----> 2\u001b[1;33m \u001b[0mprint\u001b[0m\u001b[1;33m(\u001b[0m\u001b[1;33m(\u001b[0m\u001b[0mdpvalue_graph\u001b[0m\u001b[1;33m[\u001b[0m\u001b[1;33m:\u001b[0m\u001b[1;33m,\u001b[0m\u001b[1;36m101\u001b[0m\u001b[1;33m]\u001b[0m\u001b[1;33m)\u001b[0m\u001b[1;33m)\u001b[0m\u001b[1;33m\u001b[0m\u001b[1;33m\u001b[0m\u001b[0m\n\u001b[0m",
      "\u001b[1;31mIndexError\u001b[0m: index 101 is out of bounds for axis 1 with size 101"
     ]
    }
   ],
   "source": [
    "dpvalue_graph[:,100:] = -math.inf\n",
    "print((dpvalue_graph[:,101]))"
   ]
  },
  {
   "cell_type": "code",
   "execution_count": 18,
   "metadata": {},
   "outputs": [
    {
     "output_type": "stream",
     "name": "stdout",
     "text": [
      "signal_idx 180\n",
      "signal_idx 180\n",
      "ACCAT\n",
      "GGCCG\n",
      "code_word ACCAT\n",
      "real_state -133.49951972786255\n",
      "error_state -133.25886542619816\n",
      "prefix GGCCG\n",
      "prefix AATAT\n",
      "5\n",
      "41\n",
      "3.0\n",
      "3.0\n",
      "error\n",
      "signal_idx 185\n",
      "signal_idx 185\n",
      "GTGCT\n",
      "TAACA\n",
      "code_word GTGCT\n",
      "real_state -141.56934723128904\n",
      "error_state -136.11774043254135\n",
      "prefix GACCA\n",
      "prefix ACACT\n",
      "54\n",
      "0\n",
      "4.0\n",
      "3.0\n",
      "error\n",
      "signal_idx 190\n"
     ]
    },
    {
     "output_type": "error",
     "ename": "KeyboardInterrupt",
     "evalue": "",
     "traceback": [
      "\u001b[1;31m---------------------------------------------------------------------------\u001b[0m",
      "\u001b[1;31mKeyboardInterrupt\u001b[0m                         Traceback (most recent call last)",
      "\u001b[1;32m<ipython-input-18-411f8a0d07eb>\u001b[0m in \u001b[0;36m<module>\u001b[1;34m\u001b[0m\n\u001b[0;32m     27\u001b[0m             \u001b[0mp_cs\u001b[0m \u001b[1;33m=\u001b[0m \u001b[0mcal_pro\u001b[0m\u001b[1;33m(\u001b[0m\u001b[0mc_counter\u001b[0m\u001b[1;33m,\u001b[0m\u001b[0mlabel_array\u001b[0m\u001b[1;33m,\u001b[0m\u001b[0mlen\u001b[0m\u001b[1;33m(\u001b[0m\u001b[0mlabel_arrays\u001b[0m\u001b[1;33m)\u001b[0m\u001b[1;33m)\u001b[0m\u001b[1;33m\u001b[0m\u001b[1;33m\u001b[0m\u001b[0m\n\u001b[0;32m     28\u001b[0m             \u001b[1;31m# print(p_cs)\u001b[0m\u001b[1;33m\u001b[0m\u001b[1;33m\u001b[0m\u001b[1;33m\u001b[0m\u001b[0m\n\u001b[1;32m---> 29\u001b[1;33m             \u001b[0mdpvalue\u001b[0m\u001b[1;33m,\u001b[0m\u001b[0mdel_num\u001b[0m \u001b[1;33m=\u001b[0m \u001b[0mdp_score\u001b[0m\u001b[1;33m(\u001b[0m\u001b[0mcurrent_prefix_array\u001b[0m\u001b[1;33m,\u001b[0m \u001b[0mlabel_array\u001b[0m \u001b[1;33m,\u001b[0m \u001b[0msignal_arr\u001b[0m\u001b[1;33m[\u001b[0m\u001b[0mcur_signal_idx\u001b[0m\u001b[1;33m:\u001b[0m\u001b[0mcur_signal_idx\u001b[0m\u001b[1;33m+\u001b[0m\u001b[1;36m5\u001b[0m\u001b[1;33m]\u001b[0m\u001b[1;33m,\u001b[0m \u001b[0mmus\u001b[0m\u001b[1;33m,\u001b[0m \u001b[0msigmas\u001b[0m\u001b[1;33m,\u001b[0m \u001b[0msigma_var\u001b[0m\u001b[1;33m,\u001b[0m \u001b[0mdel_rate\u001b[0m\u001b[1;33m,\u001b[0m \u001b[0mp_cs\u001b[0m \u001b[1;33m,\u001b[0m\u001b[0mnext_state\u001b[0m\u001b[1;33m)\u001b[0m\u001b[1;33m\u001b[0m\u001b[1;33m\u001b[0m\u001b[0m\n\u001b[0m\u001b[0;32m     30\u001b[0m             \u001b[0mdpvalue\u001b[0m \u001b[1;33m=\u001b[0m \u001b[0mdpvalue\u001b[0m \u001b[1;33m+\u001b[0m \u001b[0mdpvalue_graph\u001b[0m\u001b[1;33m[\u001b[0m\u001b[0mstate_idx\u001b[0m\u001b[1;33m,\u001b[0m \u001b[0msignal_idx\u001b[0m\u001b[1;33m//\u001b[0m\u001b[1;36m5\u001b[0m\u001b[1;33m]\u001b[0m\u001b[1;33m\u001b[0m\u001b[1;33m\u001b[0m\u001b[0m\n\u001b[0;32m     31\u001b[0m             \u001b[1;32mif\u001b[0m \u001b[0mdpvalue\u001b[0m \u001b[1;33m>\u001b[0m \u001b[0mdpvalue_graph\u001b[0m\u001b[1;33m[\u001b[0m\u001b[0mnext_state\u001b[0m\u001b[1;33m,\u001b[0m \u001b[0msignal_idx\u001b[0m\u001b[1;33m//\u001b[0m\u001b[1;36m5\u001b[0m \u001b[1;33m+\u001b[0m \u001b[1;36m1\u001b[0m\u001b[1;33m]\u001b[0m\u001b[1;33m:\u001b[0m\u001b[1;33m\u001b[0m\u001b[1;33m\u001b[0m\u001b[0m\n",
      "\u001b[1;32m<ipython-input-6-d2dcb8daf7f7>\u001b[0m in \u001b[0;36mdp_score\u001b[1;34m(prefix_label, cur_label, signal, mus, sigmas, sigma_var, deleRate, p_cs, next_state)\u001b[0m\n\u001b[0;32m     23\u001b[0m                 \u001b[0mcode_num_array_temp\u001b[0m \u001b[1;33m=\u001b[0m \u001b[0mcode_num_array\u001b[0m\u001b[1;33m;\u001b[0m\u001b[1;33m\u001b[0m\u001b[1;33m\u001b[0m\u001b[0m\n\u001b[0;32m     24\u001b[0m                 \u001b[0mcode_num_array_temp\u001b[0m\u001b[1;33m[\u001b[0m\u001b[1;33m-\u001b[0m\u001b[1;36m1\u001b[0m\u001b[1;33m]\u001b[0m \u001b[1;33m=\u001b[0m \u001b[0midx\u001b[0m \u001b[1;33m+\u001b[0m \u001b[1;36m1\u001b[0m\u001b[1;33m\u001b[0m\u001b[1;33m\u001b[0m\u001b[0m\n\u001b[1;32m---> 25\u001b[1;33m                 \u001b[0mcode_num_temp\u001b[0m \u001b[1;33m=\u001b[0m \u001b[0marray2num\u001b[0m\u001b[1;33m(\u001b[0m\u001b[0mcode_num_array_temp\u001b[0m\u001b[1;33m)\u001b[0m\u001b[1;33m\u001b[0m\u001b[1;33m\u001b[0m\u001b[0m\n\u001b[0m\u001b[0;32m     26\u001b[0m                 \u001b[0mx\u001b[0m \u001b[1;33m=\u001b[0m \u001b[1;33m(\u001b[0m\u001b[0msignal\u001b[0m\u001b[1;33m[\u001b[0m\u001b[0msig_idx\u001b[0m\u001b[1;33m-\u001b[0m\u001b[1;36m1\u001b[0m\u001b[1;33m]\u001b[0m \u001b[1;33m-\u001b[0m \u001b[0mmus\u001b[0m\u001b[1;33m[\u001b[0m\u001b[0mcode_num_temp\u001b[0m\u001b[1;33m]\u001b[0m\u001b[1;33m)\u001b[0m\u001b[1;33m/\u001b[0m\u001b[1;33m(\u001b[0m\u001b[0msigmas\u001b[0m\u001b[1;33m[\u001b[0m\u001b[0mcode_num_temp\u001b[0m\u001b[1;33m]\u001b[0m\u001b[1;33m*\u001b[0m\u001b[0msigma_var\u001b[0m\u001b[1;33m)\u001b[0m\u001b[1;33m\u001b[0m\u001b[1;33m\u001b[0m\u001b[0m\n\u001b[0;32m     27\u001b[0m                 \u001b[0mf_total\u001b[0m \u001b[1;33m+=\u001b[0m \u001b[0mmath\u001b[0m\u001b[1;33m.\u001b[0m\u001b[0mexp\u001b[0m\u001b[1;33m(\u001b[0m\u001b[1;33m-\u001b[0m\u001b[0mx\u001b[0m\u001b[1;33m**\u001b[0m\u001b[1;36m2\u001b[0m\u001b[1;33m/\u001b[0m\u001b[1;36m2\u001b[0m\u001b[1;33m)\u001b[0m\u001b[1;33m/\u001b[0m\u001b[0mmath\u001b[0m\u001b[1;33m.\u001b[0m\u001b[0msqrt\u001b[0m\u001b[1;33m(\u001b[0m\u001b[1;36m2\u001b[0m\u001b[1;33m*\u001b[0m\u001b[0mmath\u001b[0m\u001b[1;33m.\u001b[0m\u001b[0mpi\u001b[0m\u001b[1;33m)\u001b[0m\u001b[1;33m\u001b[0m\u001b[1;33m\u001b[0m\u001b[0m\n",
      "\u001b[1;32m<ipython-input-5-d858cb9adb56>\u001b[0m in \u001b[0;36marray2num\u001b[1;34m(array)\u001b[0m\n\u001b[0;32m      1\u001b[0m \u001b[1;32mdef\u001b[0m \u001b[0marray2num\u001b[0m\u001b[1;33m(\u001b[0m\u001b[0marray\u001b[0m\u001b[1;33m)\u001b[0m\u001b[1;33m:\u001b[0m\u001b[1;33m\u001b[0m\u001b[1;33m\u001b[0m\u001b[0m\n\u001b[0;32m      2\u001b[0m     \u001b[0mnum\u001b[0m \u001b[1;33m=\u001b[0m \u001b[1;36m0\u001b[0m\u001b[1;33m\u001b[0m\u001b[1;33m\u001b[0m\u001b[0m\n\u001b[1;32m----> 3\u001b[1;33m     \u001b[1;32mfor\u001b[0m \u001b[0midx\u001b[0m \u001b[1;32min\u001b[0m \u001b[0mrange\u001b[0m\u001b[1;33m(\u001b[0m\u001b[0mlen\u001b[0m\u001b[1;33m(\u001b[0m\u001b[0marray\u001b[0m\u001b[1;33m)\u001b[0m\u001b[1;33m)\u001b[0m\u001b[1;33m:\u001b[0m\u001b[1;33m\u001b[0m\u001b[1;33m\u001b[0m\u001b[0m\n\u001b[0m\u001b[0;32m      4\u001b[0m         \u001b[0mnum\u001b[0m \u001b[1;33m=\u001b[0m \u001b[0mnum\u001b[0m\u001b[1;33m*\u001b[0m\u001b[1;36m10\u001b[0m \u001b[1;33m+\u001b[0m \u001b[0marray\u001b[0m\u001b[1;33m[\u001b[0m\u001b[0midx\u001b[0m\u001b[1;33m]\u001b[0m\u001b[1;33m\u001b[0m\u001b[1;33m\u001b[0m\u001b[0m\n\u001b[0;32m      5\u001b[0m     \u001b[1;32mreturn\u001b[0m \u001b[0mnum\u001b[0m\u001b[1;33m\u001b[0m\u001b[1;33m\u001b[0m\u001b[0m\n",
      "\u001b[1;31mKeyboardInterrupt\u001b[0m: "
     ]
    }
   ],
   "source": [
    "error_num = 0\n",
    "for signal_idx in range(180,len(codewrd_str)-5, 5):\n",
    "# for signal_idx in range(130,len(signal_arr),5):\n",
    "    #iterate all states\n",
    "    print('signal_idx',signal_idx)\n",
    "    real_state = real_path[signal_idx//5+1]\n",
    "    for state_idx in range(len(encoder_labels_list)):\n",
    "        # print(state_idx, end=',')\n",
    "        current_prefix = (prefix_label_graph[state_idx,signal_idx//5])\n",
    "        if current_prefix == 0:\n",
    "            continue\n",
    "        encoder_labels_map = encoder_labels_list[state_idx]\n",
    "        label_arrays = []\n",
    "        for label, next_state in encoder_labels_map:\n",
    "            label_array = num2array(label)\n",
    "            label_arrays.append(label_array)\n",
    "            c_counter = char_freq(label_arrays)\n",
    "\n",
    "        max_dpvalue, max_next_state, next_prefix = -math.inf, 0, 0\n",
    "        #for everystate, find the closed label to the current signal\n",
    "\n",
    "        for label, next_state in encoder_labels_map:\n",
    "            cur_signal_idx = int(signal_idx - delMap[state_idx,signal_idx//5])\n",
    "\n",
    "            label_array = num2array(label)\n",
    "            current_prefix_array = num2array(current_prefix)\n",
    "            p_cs = cal_pro(c_counter,label_array,len(label_arrays))\n",
    "            # print(p_cs)\n",
    "            dpvalue,del_num = dp_score(current_prefix_array, label_array , signal_arr[cur_signal_idx:cur_signal_idx+5], mus, sigmas, sigma_var, del_rate, p_cs ,next_state)\n",
    "            dpvalue = dpvalue + dpvalue_graph[state_idx, signal_idx//5]\n",
    "            if dpvalue > dpvalue_graph[next_state, signal_idx//5 + 1]:\n",
    "                dpvalue_graph[next_state, signal_idx//5 + 1] = (dpvalue)\n",
    "                last_state_graph[next_state, signal_idx//5 + 1] = int(state_idx)\n",
    "                prefix_label_graph[next_state, signal_idx//5 + 1] = int(label)\n",
    "                delMap[next_state,signal_idx//5 + 1] = delMap[state_idx,signal_idx//5] + del_num\n",
    "    error_state = dpvalue_graph[:,signal_idx//5+1].argmax()\n",
    "    # delMap[:,signal_idx//5 + 1].fill(delMap[error_state   ,signal_idx//5+1])\n",
    "    # if codewords[signal_idx//5] not in prefix_label_graph[:,signal_idx//5+1]:\n",
    "    if 2>1:\n",
    "        print('signal_idx',signal_idx)\n",
    "        print(number2str(real_state[signal_idx//5+1]))\n",
    "        print(number2str(prefix_label_graph[error_state,signal_idx//5+1]))\n",
    "        print(\"code_word\", number2str(codewords[signal_idx//5]))\n",
    "        print(\"real_state\",dpvalue_graph[real_state,signal_idx//5+1])\n",
    "        print(\"error_state\",dpvalue_graph[error_state,signal_idx//5+1])\n",
    "        print(\"prefix\",number2str(prefix_label_graph[error_state,signal_idx//5]))\n",
    "        print(\"prefix\",number2str(prefix_label_graph[real_state,signal_idx//5]))\n",
    "        print(real_state)\n",
    "        print(error_state)\n",
    "        print(delMap[real_state  ,signal_idx//5+1])\n",
    "        print(delMap[error_state   ,signal_idx//5+1])\n",
    "        print(\"error\")\n",
    "        # break\n"
   ]
  },
  {
   "cell_type": "code",
   "execution_count": 119,
   "metadata": {},
   "outputs": [
    {
     "output_type": "stream",
     "name": "stdout",
     "text": [
      "495\n"
     ]
    }
   ],
   "source": [
    " print((len(signal_arr)))"
   ]
  },
  {
   "cell_type": "code",
   "execution_count": 116,
   "metadata": {},
   "outputs": [
    {
     "output_type": "stream",
     "name": "stdout",
     "text": [
      "[0. 0. 0. 0. 0. 0. 0. 0. 0. 0. 0. 0. 0. 0. 0. 0. 0. 0. 0. 0. 0. 0. 0. 0.\n 0. 0. 0. 0. 0. 0. 0. 0. 0. 0. 0. 0. 0. 0. 0. 0. 0. 0. 0. 0. 0. 0. 0. 0.\n 0. 0. 0. 0. 0. 0. 0. 0. 0. 0. 0. 0. 0. 0. 0. 0. 0. 0. 0. 0. 0. 0. 0. 0.\n 0. 0. 0. 0. 0. 0. 0. 0. 0. 0. 0. 0. 0. 0. 0. 0. 0. 0. 0. 0. 0. 0. 0. 0.\n 0. 0. 0. 0. 0. 0. 0. 0. 0. 0. 0. 0. 0. 0. 0. 0. 0. 0. 0. 0. 0. 0. 0. 0.\n 0. 0. 0. 0. 0. 0. 0. 0. 0. 0. 0. 0. 0. 0. 0. 0. 0. 0. 0. 0. 0. 0. 0. 0.\n 0. 0. 0. 0. 0. 0. 0. 0. 0. 0. 0. 0. 0. 0. 0. 0. 0. 0. 0. 0. 0. 0. 0.]\n"
     ]
    }
   ],
   "source": [
    "print(delMap[:,270//5 + 1])"
   ]
  },
  {
   "cell_type": "code",
   "execution_count": 31,
   "metadata": {},
   "outputs": [
    {
     "output_type": "stream",
     "name": "stdout",
     "text": [
      "101\n"
     ]
    }
   ],
   "source": [
    "print(len(codewrd_str)//5)"
   ]
  },
  {
   "cell_type": "code",
   "execution_count": 14,
   "metadata": {},
   "outputs": [],
   "source": [
    "def decode(last_state_graph, prefix_label_graph, dpvalue_graph):\n",
    "    col = 1;\n",
    "    curState = dpvalue_graph[:, -col].argmax()\n",
    "    curLabel = prefix_label_graph[curState, -col]\n",
    "    nextState = last_state_graph[curState, -col]\n",
    "    print(curState)\n",
    "    print(number2str(curLabel))\n",
    "    col = col + 1;\n",
    "    curState = int(nextState)\n",
    "    curLabel = prefix_label_graph[curState, -col]\n",
    "    print(curState)\n",
    "    print(number2str(curLabel))"
   ]
  },
  {
   "cell_type": "code",
   "execution_count": 15,
   "metadata": {},
   "outputs": [],
   "source": [
    "def decode(last_state_graph, prefix_label_graph, dpvalue_graph):\n",
    "    codeWord = \"\"\n",
    "    # curState = 1\n",
    "    curState = dpvalue_graph[:, -1].argmax()\n",
    "    for col in range(1, len(codewrd_str)//5):\n",
    "        # if (col == 1):\n",
    "        #     curState = 117\n",
    "        # else:\n",
    "        #     curState = dpvalue_graph[:, -col].argmax()\n",
    "        curLabel = prefix_label_graph[curState, -col]\n",
    "        # print(curLabel)\n",
    "        nextState = last_state_graph[curState, -col]\n",
    "        curState = int(nextState)\n",
    "        codeWord = number2str(curLabel) + codeWord\n",
    "    return codeWord \n",
    "def bitError(codeWord, realCodeWord):\n",
    "    errorNum = 0;\n",
    "    for i in range(len(codeWord)):\n",
    "        if(codeWord[i] != realCodeWord[i]):\n",
    "            errorNum += 1\n",
    "    return errorNum"
   ]
  },
  {
   "cell_type": "code",
   "execution_count": 16,
   "metadata": {},
   "outputs": [],
   "source": [
    "codeWord = decode(last_state_graph, prefix_label_graph,dpvalue_graph)"
   ]
  },
  {
   "cell_type": "code",
   "execution_count": 17,
   "metadata": {},
   "outputs": [
    {
     "output_type": "stream",
     "name": "stdout",
     "text": [
      "314\n"
     ]
    }
   ],
   "source": [
    "errorNum = bitError(codeWord,codewrd_str[5:])\n",
    "print(errorNum)"
   ]
  },
  {
   "cell_type": "code",
   "execution_count": 171,
   "metadata": {},
   "outputs": [
    {
     "output_type": "stream",
     "name": "stdout",
     "text": [
      "CGAATAGTGAGCAGGCAGACATACTAGACGTAACATAGTAAGTCGCCTCGTCACTGTTCATCTGCAAGCCGTGGTAGGGACAAACAGGACTCAGTGAACTCTCGAGCGAATGTCGGCAGGAATCGCGCTGAACTGGAATGTAAACGCTCTATCATTCAGATGTCACTAGACTGAGATGGTCGGACTCATCGAGCCTGGACAAACCACTATCATCTACTACAGGCCGGTCATTCTGCCGAGACTACAAAGTACGCAAGCCAGATCGGTGGGCCGACCTCGGACTTCGGTCTCGAGATCTAGGATACGAGCATGGTACCGGTCAGACTGCCGTACGCGCAGATCGACATCGGTACTGCGGATAGGACGCCTCATCAAGTGCTGTCGGGATCGGCAGTTCGCCTATAGATATAATCACGGTCATCGCAGTGCGCTACCTCACCGTCGAACCGCGGTGCTGCTACTATCGCCGCGTACTTTAAAGACATACAAGAATAAGTCTG\nCGAATAGTGAGCGAACGAACATACTAGACGTAACATAGTAAGTCGCCTCGTCACTGTTCGTCTACAAATAGTGGTAGGGACAAACAGGACTCAGTGAACTCTCGAACGAATGTCGGCAGGAATCGCGCTGAACTGGAATGTAAACGCTCTATCATTCAGATGTCACTAGACTGAGATGGTGGACTCATCGGGCCTGGACAAACCACTATCATCTCTTCTGAGCCAGTCATTCTGCCGAGACTATAAAGTGTATAAACCAGATCGGTGAACCGACACGGACTTCGGTCTCAGAATCTAAGGATGTAAACGTAGTGCCGGTCAGGCTGCCGTATATATAGATCGACATCGGTGCTGCGGACAGGACGCCTCATCAAGTGCTGTCGGGATCGGCAGACTACCTGTAGTATGAATCTGGTCATCGCAGTGCGCTACCTCACCGTCAGACCGCGGTGCTGTACTATGCCGCGTGCGCGCTAAGAACATACAAGAATAAGTCGCCA\n"
     ]
    }
   ],
   "source": [
    "print(codewrd_str[5:])\n",
    "print(codeWord)"
   ]
  },
  {
   "cell_type": "code",
   "execution_count": 100,
   "metadata": {
    "tags": []
   },
   "outputs": [
    {
     "output_type": "stream",
     "name": "stdout",
     "text": [
      "testIdx 0\n",
      "testIdx 1\n",
      "testIdx 2\n",
      "testIdx 3\n",
      "testIdx 4\n",
      "testIdx 5\n",
      "testIdx 6\n",
      "testIdx 7\n",
      "testIdx 8\n",
      "testIdx 9\n",
      "testIdx 10\n",
      "testIdx 11\n",
      "testIdx 12\n",
      "testIdx 13\n",
      "testIdx 14\n",
      "testIdx 15\n",
      "testIdx 16\n",
      "testIdx 17\n",
      "testIdx 18\n",
      "testIdx 19\n"
     ]
    }
   ],
   "source": [
    "for testIdx in range(20):\n",
    "    print(\"testIdx\" , testIdx)\n",
    "    message_len = 5\n",
    "    input_data = np.random.randint(255, size = message_len)\n",
    "    real_path = []\n",
    "    currentState = 2\n",
    "    codewords = encoder_fun(input_data,encoder_labels_list,currentState)\n",
    "    prefix = \"AAAAA\"\n",
    "    codewrd_str = \"\"\n",
    "    for codeword in codewords.values():\n",
    "        codewrd_str = codewrd_str + number2str(codeword)\n",
    "    codewrd_str = prefix + codewrd_str\n",
    "    sigma_var = 0.1\n",
    "    del_rate = 0.01\n",
    "    del_pos = []\n",
    "    # codewrd_str_del = channel_del(codewrd_str, del_rate)\n",
    "    signal_arr_sub = channel(codewrd_str,mus, sigmas, sigma_var)\n",
    "    signal_arr = channel_del(signal_arr_sub, del_rate)\n",
    "\n",
    "\n",
    "    dpvalue_graph = np.ones([len(encoder_labels_list), message_len  + 1 ])*(-math.inf)\n",
    "    last_state_graph = np.ones([len(encoder_labels_list), message_len  + 1])*(-math.inf)\n",
    "    prefix_label_graph = np.zeros([len(encoder_labels_list), message_len + 1])\n",
    "    delMap = np.zeros([len(encoder_labels_list), message_len + 1])\n",
    "    prefix_label_graph[:,0] = 11111\n",
    "    dpvalue_graph[:,0] = 0\n",
    "\n",
    "    signal_idx = 0\n",
    "    real_state = real_path[signal_idx//5+1]\n",
    "    state_idx = currentState\n",
    "    current_prefix = 11111\n",
    "    encoder_labels_map = encoder_labels_list[state_idx]\n",
    "    label_arrays = []\n",
    "    for label, next_state in encoder_labels_map:\n",
    "        label_array = num2array(label)\n",
    "        label_arrays.append(label_array)\n",
    "    c_counter = char_freq(label_arrays)\n",
    "\n",
    "    max_dpvalue, max_next_state, next_prefix = -math.inf, 0, 0\n",
    "\n",
    "    for label, next_state in encoder_labels_map:\n",
    "        cur_signal_idx = int(signal_idx - delMap[state_idx,signal_idx//5])\n",
    "        label_array = num2array(label)\n",
    "        current_prefix_array = num2array(current_prefix)\n",
    "        p_cs = cal_pro(c_counter,label_array,len(label_arrays))\n",
    "        dpvalue,del_num = dp_score(current_prefix_array, label_array , signal_arr[cur_signal_idx:cur_signal_idx+5], mus, sigmas, sigma_var, del_rate, p_cs, next_state)\n",
    "        if dpvalue > dpvalue_graph[next_state, signal_idx//5 + 1]:\n",
    "            dpvalue_graph[next_state, signal_idx//5 + 1] = dpvalue\n",
    "            last_state_graph[next_state, signal_idx//5 + 1] = next_state\n",
    "            prefix_label_graph[next_state, signal_idx//5 + 1] = label\n",
    "            delMap[next_state,signal_idx//5 + 1] = delMap[state_idx,signal_idx//5] + del_num\n",
    "        \n",
    "    error_state = dpvalue_graph[:,signal_idx//5+1].argmax()\n",
    "    if codewords[signal_idx//5] not in prefix_label_graph:\n",
    "        # print('signal_idx',signal_idx)\n",
    "        # print(number2str(codewords[signal_idx//5]))\n",
    "        # print(number2str(prefix_label_graph[error_state,signal_idx//5+1]))\n",
    "        # print(\"real_state\",dpvalue_graph[real_state,signal_idx//5+1])\n",
    "        # print(\"error_state\",dpvalue_graph[error_state,signal_idx//5+1])\n",
    "        # print(real_state)\n",
    "        # print(error_state)\n",
    "        # print(delMap[real_state  ,signal_idx//5+1])\n",
    "        # print(delMap[error_state   ,signal_idx//5+1])\n",
    "        print(\"error\")\n",
    "        break\n",
    "\n",
    "# for signal_idx in range(5,10,5):\n",
    "\n",
    "    # 1.00000000e+00 0.00000000e+00 0.00000000e+00 0.00000000e+00 0.00000000e+00 0.00000000e+00\n",
    "    # 2.10937500e-03 2.08828125e-01 0.00000000e+00 0.00000000e+00 0.00000000e+00 0.00000000e+00\n",
    "#     4.44946289e-06 2.08828125e-01 6.50844491e-02 0.00000000e+00 0.00000000e+00 0.00000000e+00\n",
    "#     9.38558578e-09 2.08828125e-01 8.51281709e-02 2.65285838e-02 0.00000000e+00 0.00000000e+00\n",
    "#     1.97977200e-11 2.08828125e-01 8.51281709e-02 2.65285838e-02 2.25113983e-02 0.00000000e+00\n",
    "#     4.17608157e-14 0.00000000e+00 0.00000000e+00 0.00000000e+00 0.00000000e+00 1.57480259e-04\n"
   ]
  },
  {
   "cell_type": "code",
   "execution_count": 191,
   "metadata": {
    "tags": []
   },
   "outputs": [
    {
     "output_type": "stream",
     "name": "stdout",
     "text": [
      "100.420326\n1.698466\n96.411198\n-1.3872161432802643\n"
     ]
    }
   ],
   "source": [
    "# print(mus[123114])\n",
    "# print(mus[124142])\n",
    "# print(number2str(123114))\n",
    "# print(number2str(124142))\n",
    "# print(mus[112131])\n",
    "# print(c2number(\"CAGAT\"))\n",
    "print(mus[c2number(\"AACTAG\")])#real state\n",
    "print(sigmas[c2number(\"AACTAG\")])#real state\n",
    "print(mus[c2number(\"ATCATA\")])\n",
    "print(math.log(0.041,10))"
   ]
  },
  {
   "cell_type": "code",
   "execution_count": 231,
   "metadata": {},
   "outputs": [
    {
     "output_type": "stream",
     "name": "stdout",
     "text": [
      "[100.279]\n",
      "0.0\n"
     ]
    }
   ],
   "source": [
    "            x = (107.8217528825611- 100.420326)/(1.698466*0.1) \n",
    "            f_a = math.exp(-x**2/2)/math.sqrt(2*math.pi)\n",
    "            s = np.random.normal(100.420326, 1.698466*0.1, 1)\n",
    "            print(s)\n",
    "            print(f_a) "
   ]
  },
  {
   "cell_type": "code",
   "execution_count": 318,
   "metadata": {},
   "outputs": [
    {
     "output_type": "stream",
     "name": "stdout",
     "text": [
      "real_state [-inf -inf -inf -inf -inf -inf -inf -inf -inf -inf -inf -inf -inf -inf\n -inf -inf -inf -inf -inf -inf -inf -inf -inf -inf -inf   2. -inf -inf\n -inf -inf -inf -inf -inf -inf -inf -inf -inf -inf -inf -inf -inf -inf\n   2. -inf -inf -inf   2. -inf -inf -inf -inf -inf -inf -inf -inf -inf\n -inf   2. -inf -inf -inf -inf -inf   2. -inf -inf -inf -inf -inf -inf\n -inf -inf -inf -inf   2.   2. -inf -inf -inf -inf -inf -inf -inf -inf\n -inf -inf -inf -inf -inf -inf -inf -inf -inf -inf -inf -inf -inf -inf\n -inf -inf -inf -inf -inf -inf -inf -inf -inf -inf -inf -inf -inf -inf\n -inf -inf -inf -inf -inf -inf -inf -inf -inf -inf -inf -inf -inf -inf\n -inf -inf -inf -inf -inf -inf -inf -inf -inf -inf -inf -inf -inf -inf\n -inf   2. -inf -inf   2. -inf -inf -inf -inf   2. -inf -inf -inf -inf\n   2. -inf -inf -inf -inf -inf -inf -inf -inf -inf -inf -inf -inf]\n"
     ]
    }
   ],
   "source": [
    "# print(\"real_state\",dpvalue_graph[: ,1])\n",
    "print(\"real_state\",last_state_graph[: ,1])\n"
   ]
  },
  {
   "cell_type": "code",
   "execution_count": 7,
   "metadata": {},
   "outputs": [],
   "source": [
    "message_len = 5\n",
    "input_data = np.random.randint(255, size = message_len)\n",
    "real_path = []\n",
    "currentState = 2\n",
    "codewords = encoder_fun(input_data,encoder_labels_list,currentState)\n",
    "prefix = \"AAAAA\"\n",
    "codewrd_str = \"\"\n",
    "for codeword in codewords.values():\n",
    "    codewrd_str = codewrd_str + number2str(codeword)\n",
    "codewrd_str = prefix + codewrd_str\n",
    "sigma_var = 0.1\n",
    "del_rate = 0.01\n",
    "del_pos = []\n",
    "# codewrd_str_del = channel_del(codewrd_str, del_rate)\n",
    "signal_arr = channel(codewrd_str,mus, sigmas, sigma_var)\n",
    "signal_arr = channel_del(signal_arr, del_rate)"
   ]
  },
  {
   "cell_type": "code",
   "execution_count": null,
   "metadata": {},
   "outputs": [],
   "source": []
  },
  {
   "cell_type": "code",
   "execution_count": 82,
   "metadata": {},
   "outputs": [
    {
     "output_type": "stream",
     "name": "stdout",
     "text": [
      "105\n"
     ]
    }
   ],
   "source": [
    "print(len(codewrd_str))"
   ]
  },
  {
   "cell_type": "code",
   "execution_count": 110,
   "metadata": {},
   "outputs": [
    {
     "output_type": "stream",
     "name": "stdout",
     "text": [
      "[1. 1. 1. 1. 1. 1. 1. 1. 1. 1. 1. 1. 1. 1. 1. 1. 1. 1. 1. 1. 1. 1. 1. 1.\n 1. 1. 1. 1. 1. 1. 1. 1. 1. 1. 1. 1. 1. 1. 1. 1. 1. 1. 1. 1. 1. 1. 1. 1.\n 1. 1. 1. 1. 1. 1. 1. 1. 1. 1. 1. 1. 1. 1. 1. 1. 1. 1. 1. 1. 1. 1. 1. 1.\n 1. 1. 1. 1. 1. 1. 1. 1. 1. 1. 1. 1. 1. 1. 1. 1. 1. 1. 1. 1. 1. 1. 1. 1.\n 1. 1. 1. 1. 1. 1. 1. 1. 1. 1. 1. 1. 1. 1. 1. 1. 1. 1. 1. 1. 1. 1. 1. 1.\n 1. 1. 1. 1. 1. 1. 1. 1. 1. 1. 1. 1. 1. 1. 1. 1. 1. 1. 1. 1. 1. 1. 1. 1.\n 1. 1. 1. 1. 1. 1. 1. 1. 1. 1. 1. 1. 1. 1. 1. 1. 1. 1. 1. 1. 1. 1. 1.]\n"
     ]
    }
   ],
   "source": [
    "# print(delMap[real_state  ,signal_idx//5+1])\n",
    "# print(delMap[error_state   ,signal_idx//5+1])\n",
    "# print(delMap[:   ,135//5+1])\n",
    "print(delMap[:   , 20//5+1])"
   ]
  },
  {
   "cell_type": "code",
   "execution_count": 49,
   "metadata": {},
   "outputs": [
    {
     "output_type": "stream",
     "name": "stdout",
     "text": [
      "[144. 144. 144. -inf -inf 144. 144. -inf -inf 144. 144. 144. -inf -inf\n -inf -inf -inf  46.  46.  46. -inf -inf -inf -inf -inf -inf  46.  46.\n -inf -inf  46. -inf -inf -inf -inf -inf -inf -inf -inf -inf  46.  46.\n  46. -inf  46. -inf  46. -inf -inf -inf  46.  27. -inf  46. -inf -inf\n -inf -inf -inf -inf  46. -inf -inf -inf -inf -inf  27. -inf -inf  46.\n -inf -inf  46.  46.  46.  46.  46.  46. -inf -inf  46. 144. 144. -inf\n -inf 144. -inf -inf -inf -inf -inf 144. -inf -inf -inf -inf 144. 144.\n 144. 144. 144. 144. 144. 144. -inf -inf -inf -inf -inf -inf -inf 144.\n 144. -inf -inf -inf 144. 144. 144. -inf -inf 144. 144. -inf -inf 144.\n 144. 144. 144. 144. -inf 144. 144. -inf -inf -inf -inf -inf -inf 144.\n 144. 144. 144. -inf  46.  46. -inf  46. -inf -inf -inf -inf -inf -inf\n  46.  46.  46. -inf  46. 144. -inf 144. -inf -inf -inf 144. 144.]\n"
     ]
    }
   ],
   "source": [
    "print(last_state_graph[:,signal_idx//5+1])"
   ]
  },
  {
   "cell_type": "code",
   "execution_count": 55,
   "metadata": {},
   "outputs": [
    {
     "output_type": "stream",
     "name": "stdout",
     "text": [
      "\n[11111.     0.     0.     0.     0.     0.     0.     0.     0.     0.\n     0.     0.     0.     0.     0.     0.     0.     0.     0.     0.\n     0.]\n"
     ]
    }
   ],
   "source": [
    "print(number2str(prefix_label_graph[error_state,signal_idx//5]))\n",
    "print(prefix_label_graph[real_path[signal_idx//5],:])"
   ]
  },
  {
   "cell_type": "code",
   "execution_count": 183,
   "metadata": {},
   "outputs": [
    {
     "output_type": "stream",
     "name": "stdout",
     "text": [
      "[-14.200191206224272, -11.756675569876883, -10.838453585146247, -12.343603563466154, -11.530120059657799, -13.11455065150541, -11.935253331209555, -12.525749891599528, -12.695041227904365, -13.11455065150541, -12.665893509600746, -9.871659922610883, -12.472130564640663, -12.63713186515529, -13.26182554819679, -12.472130564640663, -12.19878508378957, -13.727410668151375]\n"
     ]
    }
   ],
   "source": [
    "\n",
    "print(scoreDisDel)"
   ]
  },
  {
   "cell_type": "code",
   "execution_count": 184,
   "metadata": {},
   "outputs": [
    {
     "output_type": "execute_result",
     "data": {
      "text/plain": [
       "(array([1., 1., 3., 6., 2., 2., 1., 1., 0., 1.]),\n",
       " array([-14.20019121, -13.76733808, -13.33448495, -12.90163182,\n",
       "        -12.46877869, -12.03592556, -11.60307244, -11.17021931,\n",
       "        -10.73736618, -10.30451305,  -9.87165992]),\n",
       " <BarContainer object of 10 artists>)"
      ]
     },
     "metadata": {},
     "execution_count": 184
    },
    {
     "output_type": "display_data",
     "data": {
      "text/plain": "<Figure size 432x288 with 1 Axes>",
      "image/svg+xml": "<?xml version=\"1.0\" encoding=\"utf-8\" standalone=\"no\"?>\r\n<!DOCTYPE svg PUBLIC \"-//W3C//DTD SVG 1.1//EN\"\r\n  \"http://www.w3.org/Graphics/SVG/1.1/DTD/svg11.dtd\">\r\n<!-- Created with matplotlib (https://matplotlib.org/) -->\r\n<svg height=\"248.518125pt\" version=\"1.1\" viewBox=\"0 0 362.5625 248.518125\" width=\"362.5625pt\" xmlns=\"http://www.w3.org/2000/svg\" xmlns:xlink=\"http://www.w3.org/1999/xlink\">\r\n <metadata>\r\n  <rdf:RDF xmlns:cc=\"http://creativecommons.org/ns#\" xmlns:dc=\"http://purl.org/dc/elements/1.1/\" xmlns:rdf=\"http://www.w3.org/1999/02/22-rdf-syntax-ns#\">\r\n   <cc:Work>\r\n    <dc:type rdf:resource=\"http://purl.org/dc/dcmitype/StillImage\"/>\r\n    <dc:date>2021-05-20T13:46:28.697075</dc:date>\r\n    <dc:format>image/svg+xml</dc:format>\r\n    <dc:creator>\r\n     <cc:Agent>\r\n      <dc:title>Matplotlib v3.3.4, https://matplotlib.org/</dc:title>\r\n     </cc:Agent>\r\n    </dc:creator>\r\n   </cc:Work>\r\n  </rdf:RDF>\r\n </metadata>\r\n <defs>\r\n  <style type=\"text/css\">*{stroke-linecap:butt;stroke-linejoin:round;}</style>\r\n </defs>\r\n <g id=\"figure_1\">\r\n  <g id=\"patch_1\">\r\n   <path d=\"M 0 248.518125 \r\nL 362.5625 248.518125 \r\nL 362.5625 0 \r\nL 0 0 \r\nz\r\n\" style=\"fill:none;\"/>\r\n  </g>\r\n  <g id=\"axes_1\">\r\n   <g id=\"patch_2\">\r\n    <path d=\"M 20.5625 224.64 \r\nL 355.3625 224.64 \r\nL 355.3625 7.2 \r\nL 20.5625 7.2 \r\nz\r\n\" style=\"fill:#ffffff;\"/>\r\n   </g>\r\n   <g id=\"patch_3\">\r\n    <path clip-path=\"url(#p5b352c4ba4)\" d=\"M 35.780682 224.64 \r\nL 66.217045 224.64 \r\nL 66.217045 190.125714 \r\nL 35.780682 190.125714 \r\nz\r\n\" style=\"fill:#1f77b4;\"/>\r\n   </g>\r\n   <g id=\"patch_4\">\r\n    <path clip-path=\"url(#p5b352c4ba4)\" d=\"M 66.217045 224.64 \r\nL 96.653409 224.64 \r\nL 96.653409 190.125714 \r\nL 66.217045 190.125714 \r\nz\r\n\" style=\"fill:#1f77b4;\"/>\r\n   </g>\r\n   <g id=\"patch_5\">\r\n    <path clip-path=\"url(#p5b352c4ba4)\" d=\"M 96.653409 224.64 \r\nL 127.089773 224.64 \r\nL 127.089773 121.097143 \r\nL 96.653409 121.097143 \r\nz\r\n\" style=\"fill:#1f77b4;\"/>\r\n   </g>\r\n   <g id=\"patch_6\">\r\n    <path clip-path=\"url(#p5b352c4ba4)\" d=\"M 127.089773 224.64 \r\nL 157.526136 224.64 \r\nL 157.526136 17.554286 \r\nL 127.089773 17.554286 \r\nz\r\n\" style=\"fill:#1f77b4;\"/>\r\n   </g>\r\n   <g id=\"patch_7\">\r\n    <path clip-path=\"url(#p5b352c4ba4)\" d=\"M 157.526136 224.64 \r\nL 187.9625 224.64 \r\nL 187.9625 155.611429 \r\nL 157.526136 155.611429 \r\nz\r\n\" style=\"fill:#1f77b4;\"/>\r\n   </g>\r\n   <g id=\"patch_8\">\r\n    <path clip-path=\"url(#p5b352c4ba4)\" d=\"M 187.9625 224.64 \r\nL 218.398864 224.64 \r\nL 218.398864 155.611429 \r\nL 187.9625 155.611429 \r\nz\r\n\" style=\"fill:#1f77b4;\"/>\r\n   </g>\r\n   <g id=\"patch_9\">\r\n    <path clip-path=\"url(#p5b352c4ba4)\" d=\"M 218.398864 224.64 \r\nL 248.835227 224.64 \r\nL 248.835227 190.125714 \r\nL 218.398864 190.125714 \r\nz\r\n\" style=\"fill:#1f77b4;\"/>\r\n   </g>\r\n   <g id=\"patch_10\">\r\n    <path clip-path=\"url(#p5b352c4ba4)\" d=\"M 248.835227 224.64 \r\nL 279.271591 224.64 \r\nL 279.271591 190.125714 \r\nL 248.835227 190.125714 \r\nz\r\n\" style=\"fill:#1f77b4;\"/>\r\n   </g>\r\n   <g id=\"patch_11\">\r\n    <path clip-path=\"url(#p5b352c4ba4)\" d=\"M 279.271591 224.64 \r\nL 309.707955 224.64 \r\nL 309.707955 224.64 \r\nL 279.271591 224.64 \r\nz\r\n\" style=\"fill:#1f77b4;\"/>\r\n   </g>\r\n   <g id=\"patch_12\">\r\n    <path clip-path=\"url(#p5b352c4ba4)\" d=\"M 309.707955 224.64 \r\nL 340.144318 224.64 \r\nL 340.144318 190.125714 \r\nL 309.707955 190.125714 \r\nz\r\n\" style=\"fill:#1f77b4;\"/>\r\n   </g>\r\n   <g id=\"matplotlib.axis_1\">\r\n    <g id=\"xtick_1\">\r\n     <g id=\"line2d_1\">\r\n      <defs>\r\n       <path d=\"M 0 0 \r\nL 0 3.5 \r\n\" id=\"m9bc790c899\" style=\"stroke:#000000;stroke-width:0.8;\"/>\r\n      </defs>\r\n      <g>\r\n       <use style=\"stroke:#000000;stroke-width:0.8;\" x=\"49.857263\" xlink:href=\"#m9bc790c899\" y=\"224.64\"/>\r\n      </g>\r\n     </g>\r\n     <g id=\"text_1\">\r\n      <!-- −14 -->\r\n      <g transform=\"translate(39.30492 239.238437)scale(0.1 -0.1)\">\r\n       <defs>\r\n        <path d=\"M 10.59375 35.5 \r\nL 73.1875 35.5 \r\nL 73.1875 27.203125 \r\nL 10.59375 27.203125 \r\nz\r\n\" id=\"DejaVuSans-8722\"/>\r\n        <path d=\"M 12.40625 8.296875 \r\nL 28.515625 8.296875 \r\nL 28.515625 63.921875 \r\nL 10.984375 60.40625 \r\nL 10.984375 69.390625 \r\nL 28.421875 72.90625 \r\nL 38.28125 72.90625 \r\nL 38.28125 8.296875 \r\nL 54.390625 8.296875 \r\nL 54.390625 0 \r\nL 12.40625 0 \r\nz\r\n\" id=\"DejaVuSans-49\"/>\r\n        <path d=\"M 37.796875 64.3125 \r\nL 12.890625 25.390625 \r\nL 37.796875 25.390625 \r\nz\r\nM 35.203125 72.90625 \r\nL 47.609375 72.90625 \r\nL 47.609375 25.390625 \r\nL 58.015625 25.390625 \r\nL 58.015625 17.1875 \r\nL 47.609375 17.1875 \r\nL 47.609375 0 \r\nL 37.796875 0 \r\nL 37.796875 17.1875 \r\nL 4.890625 17.1875 \r\nL 4.890625 26.703125 \r\nz\r\n\" id=\"DejaVuSans-52\"/>\r\n       </defs>\r\n       <use xlink:href=\"#DejaVuSans-8722\"/>\r\n       <use x=\"83.789062\" xlink:href=\"#DejaVuSans-49\"/>\r\n       <use x=\"147.412109\" xlink:href=\"#DejaVuSans-52\"/>\r\n      </g>\r\n     </g>\r\n    </g>\r\n    <g id=\"xtick_2\">\r\n     <g id=\"line2d_2\">\r\n      <g>\r\n       <use style=\"stroke:#000000;stroke-width:0.8;\" x=\"120.172947\" xlink:href=\"#m9bc790c899\" y=\"224.64\"/>\r\n      </g>\r\n     </g>\r\n     <g id=\"text_2\">\r\n      <!-- −13 -->\r\n      <g transform=\"translate(109.620603 239.238437)scale(0.1 -0.1)\">\r\n       <defs>\r\n        <path d=\"M 40.578125 39.3125 \r\nQ 47.65625 37.796875 51.625 33 \r\nQ 55.609375 28.21875 55.609375 21.1875 \r\nQ 55.609375 10.40625 48.1875 4.484375 \r\nQ 40.765625 -1.421875 27.09375 -1.421875 \r\nQ 22.515625 -1.421875 17.65625 -0.515625 \r\nQ 12.796875 0.390625 7.625 2.203125 \r\nL 7.625 11.71875 \r\nQ 11.71875 9.328125 16.59375 8.109375 \r\nQ 21.484375 6.890625 26.8125 6.890625 \r\nQ 36.078125 6.890625 40.9375 10.546875 \r\nQ 45.796875 14.203125 45.796875 21.1875 \r\nQ 45.796875 27.640625 41.28125 31.265625 \r\nQ 36.765625 34.90625 28.71875 34.90625 \r\nL 20.21875 34.90625 \r\nL 20.21875 43.015625 \r\nL 29.109375 43.015625 \r\nQ 36.375 43.015625 40.234375 45.921875 \r\nQ 44.09375 48.828125 44.09375 54.296875 \r\nQ 44.09375 59.90625 40.109375 62.90625 \r\nQ 36.140625 65.921875 28.71875 65.921875 \r\nQ 24.65625 65.921875 20.015625 65.03125 \r\nQ 15.375 64.15625 9.8125 62.3125 \r\nL 9.8125 71.09375 \r\nQ 15.4375 72.65625 20.34375 73.4375 \r\nQ 25.25 74.21875 29.59375 74.21875 \r\nQ 40.828125 74.21875 47.359375 69.109375 \r\nQ 53.90625 64.015625 53.90625 55.328125 \r\nQ 53.90625 49.265625 50.4375 45.09375 \r\nQ 46.96875 40.921875 40.578125 39.3125 \r\nz\r\n\" id=\"DejaVuSans-51\"/>\r\n       </defs>\r\n       <use xlink:href=\"#DejaVuSans-8722\"/>\r\n       <use x=\"83.789062\" xlink:href=\"#DejaVuSans-49\"/>\r\n       <use x=\"147.412109\" xlink:href=\"#DejaVuSans-51\"/>\r\n      </g>\r\n     </g>\r\n    </g>\r\n    <g id=\"xtick_3\">\r\n     <g id=\"line2d_3\">\r\n      <g>\r\n       <use style=\"stroke:#000000;stroke-width:0.8;\" x=\"190.488631\" xlink:href=\"#m9bc790c899\" y=\"224.64\"/>\r\n      </g>\r\n     </g>\r\n     <g id=\"text_3\">\r\n      <!-- −12 -->\r\n      <g transform=\"translate(179.936287 239.238437)scale(0.1 -0.1)\">\r\n       <defs>\r\n        <path d=\"M 19.1875 8.296875 \r\nL 53.609375 8.296875 \r\nL 53.609375 0 \r\nL 7.328125 0 \r\nL 7.328125 8.296875 \r\nQ 12.9375 14.109375 22.625 23.890625 \r\nQ 32.328125 33.6875 34.8125 36.53125 \r\nQ 39.546875 41.84375 41.421875 45.53125 \r\nQ 43.3125 49.21875 43.3125 52.78125 \r\nQ 43.3125 58.59375 39.234375 62.25 \r\nQ 35.15625 65.921875 28.609375 65.921875 \r\nQ 23.96875 65.921875 18.8125 64.3125 \r\nQ 13.671875 62.703125 7.8125 59.421875 \r\nL 7.8125 69.390625 \r\nQ 13.765625 71.78125 18.9375 73 \r\nQ 24.125 74.21875 28.421875 74.21875 \r\nQ 39.75 74.21875 46.484375 68.546875 \r\nQ 53.21875 62.890625 53.21875 53.421875 \r\nQ 53.21875 48.921875 51.53125 44.890625 \r\nQ 49.859375 40.875 45.40625 35.40625 \r\nQ 44.1875 33.984375 37.640625 27.21875 \r\nQ 31.109375 20.453125 19.1875 8.296875 \r\nz\r\n\" id=\"DejaVuSans-50\"/>\r\n       </defs>\r\n       <use xlink:href=\"#DejaVuSans-8722\"/>\r\n       <use x=\"83.789062\" xlink:href=\"#DejaVuSans-49\"/>\r\n       <use x=\"147.412109\" xlink:href=\"#DejaVuSans-50\"/>\r\n      </g>\r\n     </g>\r\n    </g>\r\n    <g id=\"xtick_4\">\r\n     <g id=\"line2d_4\">\r\n      <g>\r\n       <use style=\"stroke:#000000;stroke-width:0.8;\" x=\"260.804314\" xlink:href=\"#m9bc790c899\" y=\"224.64\"/>\r\n      </g>\r\n     </g>\r\n     <g id=\"text_4\">\r\n      <!-- −11 -->\r\n      <g transform=\"translate(250.251971 239.238437)scale(0.1 -0.1)\">\r\n       <use xlink:href=\"#DejaVuSans-8722\"/>\r\n       <use x=\"83.789062\" xlink:href=\"#DejaVuSans-49\"/>\r\n       <use x=\"147.412109\" xlink:href=\"#DejaVuSans-49\"/>\r\n      </g>\r\n     </g>\r\n    </g>\r\n    <g id=\"xtick_5\">\r\n     <g id=\"line2d_5\">\r\n      <g>\r\n       <use style=\"stroke:#000000;stroke-width:0.8;\" x=\"331.119998\" xlink:href=\"#m9bc790c899\" y=\"224.64\"/>\r\n      </g>\r\n     </g>\r\n     <g id=\"text_5\">\r\n      <!-- −10 -->\r\n      <g transform=\"translate(320.567654 239.238437)scale(0.1 -0.1)\">\r\n       <defs>\r\n        <path d=\"M 31.78125 66.40625 \r\nQ 24.171875 66.40625 20.328125 58.90625 \r\nQ 16.5 51.421875 16.5 36.375 \r\nQ 16.5 21.390625 20.328125 13.890625 \r\nQ 24.171875 6.390625 31.78125 6.390625 \r\nQ 39.453125 6.390625 43.28125 13.890625 \r\nQ 47.125 21.390625 47.125 36.375 \r\nQ 47.125 51.421875 43.28125 58.90625 \r\nQ 39.453125 66.40625 31.78125 66.40625 \r\nz\r\nM 31.78125 74.21875 \r\nQ 44.046875 74.21875 50.515625 64.515625 \r\nQ 56.984375 54.828125 56.984375 36.375 \r\nQ 56.984375 17.96875 50.515625 8.265625 \r\nQ 44.046875 -1.421875 31.78125 -1.421875 \r\nQ 19.53125 -1.421875 13.0625 8.265625 \r\nQ 6.59375 17.96875 6.59375 36.375 \r\nQ 6.59375 54.828125 13.0625 64.515625 \r\nQ 19.53125 74.21875 31.78125 74.21875 \r\nz\r\n\" id=\"DejaVuSans-48\"/>\r\n       </defs>\r\n       <use xlink:href=\"#DejaVuSans-8722\"/>\r\n       <use x=\"83.789062\" xlink:href=\"#DejaVuSans-49\"/>\r\n       <use x=\"147.412109\" xlink:href=\"#DejaVuSans-48\"/>\r\n      </g>\r\n     </g>\r\n    </g>\r\n   </g>\r\n   <g id=\"matplotlib.axis_2\">\r\n    <g id=\"ytick_1\">\r\n     <g id=\"line2d_6\">\r\n      <defs>\r\n       <path d=\"M 0 0 \r\nL -3.5 0 \r\n\" id=\"md186411e50\" style=\"stroke:#000000;stroke-width:0.8;\"/>\r\n      </defs>\r\n      <g>\r\n       <use style=\"stroke:#000000;stroke-width:0.8;\" x=\"20.5625\" xlink:href=\"#md186411e50\" y=\"224.64\"/>\r\n      </g>\r\n     </g>\r\n     <g id=\"text_6\">\r\n      <!-- 0 -->\r\n      <g transform=\"translate(7.2 228.439219)scale(0.1 -0.1)\">\r\n       <use xlink:href=\"#DejaVuSans-48\"/>\r\n      </g>\r\n     </g>\r\n    </g>\r\n    <g id=\"ytick_2\">\r\n     <g id=\"line2d_7\">\r\n      <g>\r\n       <use style=\"stroke:#000000;stroke-width:0.8;\" x=\"20.5625\" xlink:href=\"#md186411e50\" y=\"190.125714\"/>\r\n      </g>\r\n     </g>\r\n     <g id=\"text_7\">\r\n      <!-- 1 -->\r\n      <g transform=\"translate(7.2 193.924933)scale(0.1 -0.1)\">\r\n       <use xlink:href=\"#DejaVuSans-49\"/>\r\n      </g>\r\n     </g>\r\n    </g>\r\n    <g id=\"ytick_3\">\r\n     <g id=\"line2d_8\">\r\n      <g>\r\n       <use style=\"stroke:#000000;stroke-width:0.8;\" x=\"20.5625\" xlink:href=\"#md186411e50\" y=\"155.611429\"/>\r\n      </g>\r\n     </g>\r\n     <g id=\"text_8\">\r\n      <!-- 2 -->\r\n      <g transform=\"translate(7.2 159.410647)scale(0.1 -0.1)\">\r\n       <use xlink:href=\"#DejaVuSans-50\"/>\r\n      </g>\r\n     </g>\r\n    </g>\r\n    <g id=\"ytick_4\">\r\n     <g id=\"line2d_9\">\r\n      <g>\r\n       <use style=\"stroke:#000000;stroke-width:0.8;\" x=\"20.5625\" xlink:href=\"#md186411e50\" y=\"121.097143\"/>\r\n      </g>\r\n     </g>\r\n     <g id=\"text_9\">\r\n      <!-- 3 -->\r\n      <g transform=\"translate(7.2 124.896362)scale(0.1 -0.1)\">\r\n       <use xlink:href=\"#DejaVuSans-51\"/>\r\n      </g>\r\n     </g>\r\n    </g>\r\n    <g id=\"ytick_5\">\r\n     <g id=\"line2d_10\">\r\n      <g>\r\n       <use style=\"stroke:#000000;stroke-width:0.8;\" x=\"20.5625\" xlink:href=\"#md186411e50\" y=\"86.582857\"/>\r\n      </g>\r\n     </g>\r\n     <g id=\"text_10\">\r\n      <!-- 4 -->\r\n      <g transform=\"translate(7.2 90.382076)scale(0.1 -0.1)\">\r\n       <use xlink:href=\"#DejaVuSans-52\"/>\r\n      </g>\r\n     </g>\r\n    </g>\r\n    <g id=\"ytick_6\">\r\n     <g id=\"line2d_11\">\r\n      <g>\r\n       <use style=\"stroke:#000000;stroke-width:0.8;\" x=\"20.5625\" xlink:href=\"#md186411e50\" y=\"52.068571\"/>\r\n      </g>\r\n     </g>\r\n     <g id=\"text_11\">\r\n      <!-- 5 -->\r\n      <g transform=\"translate(7.2 55.86779)scale(0.1 -0.1)\">\r\n       <defs>\r\n        <path d=\"M 10.796875 72.90625 \r\nL 49.515625 72.90625 \r\nL 49.515625 64.59375 \r\nL 19.828125 64.59375 \r\nL 19.828125 46.734375 \r\nQ 21.96875 47.46875 24.109375 47.828125 \r\nQ 26.265625 48.1875 28.421875 48.1875 \r\nQ 40.625 48.1875 47.75 41.5 \r\nQ 54.890625 34.8125 54.890625 23.390625 \r\nQ 54.890625 11.625 47.5625 5.09375 \r\nQ 40.234375 -1.421875 26.90625 -1.421875 \r\nQ 22.3125 -1.421875 17.546875 -0.640625 \r\nQ 12.796875 0.140625 7.71875 1.703125 \r\nL 7.71875 11.625 \r\nQ 12.109375 9.234375 16.796875 8.0625 \r\nQ 21.484375 6.890625 26.703125 6.890625 \r\nQ 35.15625 6.890625 40.078125 11.328125 \r\nQ 45.015625 15.765625 45.015625 23.390625 \r\nQ 45.015625 31 40.078125 35.4375 \r\nQ 35.15625 39.890625 26.703125 39.890625 \r\nQ 22.75 39.890625 18.8125 39.015625 \r\nQ 14.890625 38.140625 10.796875 36.28125 \r\nz\r\n\" id=\"DejaVuSans-53\"/>\r\n       </defs>\r\n       <use xlink:href=\"#DejaVuSans-53\"/>\r\n      </g>\r\n     </g>\r\n    </g>\r\n    <g id=\"ytick_7\">\r\n     <g id=\"line2d_12\">\r\n      <g>\r\n       <use style=\"stroke:#000000;stroke-width:0.8;\" x=\"20.5625\" xlink:href=\"#md186411e50\" y=\"17.554286\"/>\r\n      </g>\r\n     </g>\r\n     <g id=\"text_12\">\r\n      <!-- 6 -->\r\n      <g transform=\"translate(7.2 21.353504)scale(0.1 -0.1)\">\r\n       <defs>\r\n        <path d=\"M 33.015625 40.375 \r\nQ 26.375 40.375 22.484375 35.828125 \r\nQ 18.609375 31.296875 18.609375 23.390625 \r\nQ 18.609375 15.53125 22.484375 10.953125 \r\nQ 26.375 6.390625 33.015625 6.390625 \r\nQ 39.65625 6.390625 43.53125 10.953125 \r\nQ 47.40625 15.53125 47.40625 23.390625 \r\nQ 47.40625 31.296875 43.53125 35.828125 \r\nQ 39.65625 40.375 33.015625 40.375 \r\nz\r\nM 52.59375 71.296875 \r\nL 52.59375 62.3125 \r\nQ 48.875 64.0625 45.09375 64.984375 \r\nQ 41.3125 65.921875 37.59375 65.921875 \r\nQ 27.828125 65.921875 22.671875 59.328125 \r\nQ 17.53125 52.734375 16.796875 39.40625 \r\nQ 19.671875 43.65625 24.015625 45.921875 \r\nQ 28.375 48.1875 33.59375 48.1875 \r\nQ 44.578125 48.1875 50.953125 41.515625 \r\nQ 57.328125 34.859375 57.328125 23.390625 \r\nQ 57.328125 12.15625 50.6875 5.359375 \r\nQ 44.046875 -1.421875 33.015625 -1.421875 \r\nQ 20.359375 -1.421875 13.671875 8.265625 \r\nQ 6.984375 17.96875 6.984375 36.375 \r\nQ 6.984375 53.65625 15.1875 63.9375 \r\nQ 23.390625 74.21875 37.203125 74.21875 \r\nQ 40.921875 74.21875 44.703125 73.484375 \r\nQ 48.484375 72.75 52.59375 71.296875 \r\nz\r\n\" id=\"DejaVuSans-54\"/>\r\n       </defs>\r\n       <use xlink:href=\"#DejaVuSans-54\"/>\r\n      </g>\r\n     </g>\r\n    </g>\r\n   </g>\r\n   <g id=\"patch_13\">\r\n    <path d=\"M 20.5625 224.64 \r\nL 20.5625 7.2 \r\n\" style=\"fill:none;stroke:#000000;stroke-linecap:square;stroke-linejoin:miter;stroke-width:0.8;\"/>\r\n   </g>\r\n   <g id=\"patch_14\">\r\n    <path d=\"M 355.3625 224.64 \r\nL 355.3625 7.2 \r\n\" style=\"fill:none;stroke:#000000;stroke-linecap:square;stroke-linejoin:miter;stroke-width:0.8;\"/>\r\n   </g>\r\n   <g id=\"patch_15\">\r\n    <path d=\"M 20.5625 224.64 \r\nL 355.3625 224.64 \r\n\" style=\"fill:none;stroke:#000000;stroke-linecap:square;stroke-linejoin:miter;stroke-width:0.8;\"/>\r\n   </g>\r\n   <g id=\"patch_16\">\r\n    <path d=\"M 20.5625 7.2 \r\nL 355.3625 7.2 \r\n\" style=\"fill:none;stroke:#000000;stroke-linecap:square;stroke-linejoin:miter;stroke-width:0.8;\"/>\r\n   </g>\r\n  </g>\r\n </g>\r\n <defs>\r\n  <clipPath id=\"p5b352c4ba4\">\r\n   <rect height=\"217.44\" width=\"334.8\" x=\"20.5625\" y=\"7.2\"/>\r\n  </clipPath>\r\n </defs>\r\n</svg>\r\n",
      "image/png": "[encoded data removed]"
     },
     "metadata": {
      "needs_background": "light"
     }
    }
   ],
   "source": [
    "import numpy\n",
    "from matplotlib import pyplot as plt \n",
    "bins = numpy.linspace(-10, 0, 10)\n",
    "\n",
    "plt.hist(scoreDisDel, label='x')\n",
    "# plt.hist(scoreDis, label='y')\n",
    "# plt.hist(scoreDis, bins, alpha=0.5, label='y')\n",
    "# plt.hist(scoreDisDel, bins, alpha=0.5, label='x')\n",
    "# plt.legend(loc='upper right')\n",
    "# plt.show()"
   ]
  },
  {
   "cell_type": "code",
   "execution_count": 185,
   "metadata": {},
   "outputs": [
    {
     "output_type": "execute_result",
     "data": {
      "text/plain": [
       "(array([5., 8., 3., 1., 0., 0., 0., 0., 0., 1.]),\n",
       " array([-14.20019121, -13.05285896, -11.90552672, -10.75819447,\n",
       "         -9.61086222,  -8.46352998,  -7.31619773,  -6.16886549,\n",
       "         -5.02153324,  -3.874201  ,  -2.72686875]),\n",
       " <BarContainer object of 10 artists>)"
      ]
     },
     "metadata": {},
     "execution_count": 185
    },
    {
     "output_type": "display_data",
     "data": {
      "text/plain": "<Figure size 432x288 with 1 Axes>",
      "image/svg+xml": "<?xml version=\"1.0\" encoding=\"utf-8\" standalone=\"no\"?>\r\n<!DOCTYPE svg PUBLIC \"-//W3C//DTD SVG 1.1//EN\"\r\n  \"http://www.w3.org/Graphics/SVG/1.1/DTD/svg11.dtd\">\r\n<!-- Created with matplotlib (https://matplotlib.org/) -->\r\n<svg height=\"248.518125pt\" version=\"1.1\" viewBox=\"0 0 362.5625 248.518125\" width=\"362.5625pt\" xmlns=\"http://www.w3.org/2000/svg\" xmlns:xlink=\"http://www.w3.org/1999/xlink\">\r\n <metadata>\r\n  <rdf:RDF xmlns:cc=\"http://creativecommons.org/ns#\" xmlns:dc=\"http://purl.org/dc/elements/1.1/\" xmlns:rdf=\"http://www.w3.org/1999/02/22-rdf-syntax-ns#\">\r\n   <cc:Work>\r\n    <dc:type rdf:resource=\"http://purl.org/dc/dcmitype/StillImage\"/>\r\n    <dc:date>2021-05-20T13:47:33.237065</dc:date>\r\n    <dc:format>image/svg+xml</dc:format>\r\n    <dc:creator>\r\n     <cc:Agent>\r\n      <dc:title>Matplotlib v3.3.4, https://matplotlib.org/</dc:title>\r\n     </cc:Agent>\r\n    </dc:creator>\r\n   </cc:Work>\r\n  </rdf:RDF>\r\n </metadata>\r\n <defs>\r\n  <style type=\"text/css\">*{stroke-linecap:butt;stroke-linejoin:round;}</style>\r\n </defs>\r\n <g id=\"figure_1\">\r\n  <g id=\"patch_1\">\r\n   <path d=\"M 0 248.518125 \r\nL 362.5625 248.518125 \r\nL 362.5625 0 \r\nL 0 0 \r\nz\r\n\" style=\"fill:none;\"/>\r\n  </g>\r\n  <g id=\"axes_1\">\r\n   <g id=\"patch_2\">\r\n    <path d=\"M 20.5625 224.64 \r\nL 355.3625 224.64 \r\nL 355.3625 7.2 \r\nL 20.5625 7.2 \r\nz\r\n\" style=\"fill:#ffffff;\"/>\r\n   </g>\r\n   <g id=\"patch_3\">\r\n    <path clip-path=\"url(#pe01f079ade)\" d=\"M 35.780682 224.64 \r\nL 66.217045 224.64 \r\nL 66.217045 95.211429 \r\nL 35.780682 95.211429 \r\nz\r\n\" style=\"fill:#1f77b4;\"/>\r\n   </g>\r\n   <g id=\"patch_4\">\r\n    <path clip-path=\"url(#pe01f079ade)\" d=\"M 66.217045 224.64 \r\nL 96.653409 224.64 \r\nL 96.653409 17.554286 \r\nL 66.217045 17.554286 \r\nz\r\n\" style=\"fill:#1f77b4;\"/>\r\n   </g>\r\n   <g id=\"patch_5\">\r\n    <path clip-path=\"url(#pe01f079ade)\" d=\"M 96.653409 224.64 \r\nL 127.089773 224.64 \r\nL 127.089773 146.982857 \r\nL 96.653409 146.982857 \r\nz\r\n\" style=\"fill:#1f77b4;\"/>\r\n   </g>\r\n   <g id=\"patch_6\">\r\n    <path clip-path=\"url(#pe01f079ade)\" d=\"M 127.089773 224.64 \r\nL 157.526136 224.64 \r\nL 157.526136 198.754286 \r\nL 127.089773 198.754286 \r\nz\r\n\" style=\"fill:#1f77b4;\"/>\r\n   </g>\r\n   <g id=\"patch_7\">\r\n    <path clip-path=\"url(#pe01f079ade)\" d=\"M 157.526136 224.64 \r\nL 187.9625 224.64 \r\nL 187.9625 224.64 \r\nL 157.526136 224.64 \r\nz\r\n\" style=\"fill:#1f77b4;\"/>\r\n   </g>\r\n   <g id=\"patch_8\">\r\n    <path clip-path=\"url(#pe01f079ade)\" d=\"M 187.9625 224.64 \r\nL 218.398864 224.64 \r\nL 218.398864 224.64 \r\nL 187.9625 224.64 \r\nz\r\n\" style=\"fill:#1f77b4;\"/>\r\n   </g>\r\n   <g id=\"patch_9\">\r\n    <path clip-path=\"url(#pe01f079ade)\" d=\"M 218.398864 224.64 \r\nL 248.835227 224.64 \r\nL 248.835227 224.64 \r\nL 218.398864 224.64 \r\nz\r\n\" style=\"fill:#1f77b4;\"/>\r\n   </g>\r\n   <g id=\"patch_10\">\r\n    <path clip-path=\"url(#pe01f079ade)\" d=\"M 248.835227 224.64 \r\nL 279.271591 224.64 \r\nL 279.271591 224.64 \r\nL 248.835227 224.64 \r\nz\r\n\" style=\"fill:#1f77b4;\"/>\r\n   </g>\r\n   <g id=\"patch_11\">\r\n    <path clip-path=\"url(#pe01f079ade)\" d=\"M 279.271591 224.64 \r\nL 309.707955 224.64 \r\nL 309.707955 224.64 \r\nL 279.271591 224.64 \r\nz\r\n\" style=\"fill:#1f77b4;\"/>\r\n   </g>\r\n   <g id=\"patch_12\">\r\n    <path clip-path=\"url(#pe01f079ade)\" d=\"M 309.707955 224.64 \r\nL 340.144318 224.64 \r\nL 340.144318 198.754286 \r\nL 309.707955 198.754286 \r\nz\r\n\" style=\"fill:#1f77b4;\"/>\r\n   </g>\r\n   <g id=\"matplotlib.axis_1\">\r\n    <g id=\"xtick_1\">\r\n     <g id=\"line2d_1\">\r\n      <defs>\r\n       <path d=\"M 0 0 \r\nL 0 3.5 \r\n\" id=\"md3a06e9584\" style=\"stroke:#000000;stroke-width:0.8;\"/>\r\n      </defs>\r\n      <g>\r\n       <use style=\"stroke:#000000;stroke-width:0.8;\" x=\"41.091343\" xlink:href=\"#md3a06e9584\" y=\"224.64\"/>\r\n      </g>\r\n     </g>\r\n     <g id=\"text_1\">\r\n      <!-- −14 -->\r\n      <g transform=\"translate(30.538999 239.238437)scale(0.1 -0.1)\">\r\n       <defs>\r\n        <path d=\"M 10.59375 35.5 \r\nL 73.1875 35.5 \r\nL 73.1875 27.203125 \r\nL 10.59375 27.203125 \r\nz\r\n\" id=\"DejaVuSans-8722\"/>\r\n        <path d=\"M 12.40625 8.296875 \r\nL 28.515625 8.296875 \r\nL 28.515625 63.921875 \r\nL 10.984375 60.40625 \r\nL 10.984375 69.390625 \r\nL 28.421875 72.90625 \r\nL 38.28125 72.90625 \r\nL 38.28125 8.296875 \r\nL 54.390625 8.296875 \r\nL 54.390625 0 \r\nL 12.40625 0 \r\nz\r\n\" id=\"DejaVuSans-49\"/>\r\n        <path d=\"M 37.796875 64.3125 \r\nL 12.890625 25.390625 \r\nL 37.796875 25.390625 \r\nz\r\nM 35.203125 72.90625 \r\nL 47.609375 72.90625 \r\nL 47.609375 25.390625 \r\nL 58.015625 25.390625 \r\nL 58.015625 17.1875 \r\nL 47.609375 17.1875 \r\nL 47.609375 0 \r\nL 37.796875 0 \r\nL 37.796875 17.1875 \r\nL 4.890625 17.1875 \r\nL 4.890625 26.703125 \r\nz\r\n\" id=\"DejaVuSans-52\"/>\r\n       </defs>\r\n       <use xlink:href=\"#DejaVuSans-8722\"/>\r\n       <use x=\"83.789062\" xlink:href=\"#DejaVuSans-49\"/>\r\n       <use x=\"147.412109\" xlink:href=\"#DejaVuSans-52\"/>\r\n      </g>\r\n     </g>\r\n    </g>\r\n    <g id=\"xtick_2\">\r\n     <g id=\"line2d_2\">\r\n      <g>\r\n       <use style=\"stroke:#000000;stroke-width:0.8;\" x=\"94.147227\" xlink:href=\"#md3a06e9584\" y=\"224.64\"/>\r\n      </g>\r\n     </g>\r\n     <g id=\"text_2\">\r\n      <!-- −12 -->\r\n      <g transform=\"translate(83.594883 239.238437)scale(0.1 -0.1)\">\r\n       <defs>\r\n        <path d=\"M 19.1875 8.296875 \r\nL 53.609375 8.296875 \r\nL 53.609375 0 \r\nL 7.328125 0 \r\nL 7.328125 8.296875 \r\nQ 12.9375 14.109375 22.625 23.890625 \r\nQ 32.328125 33.6875 34.8125 36.53125 \r\nQ 39.546875 41.84375 41.421875 45.53125 \r\nQ 43.3125 49.21875 43.3125 52.78125 \r\nQ 43.3125 58.59375 39.234375 62.25 \r\nQ 35.15625 65.921875 28.609375 65.921875 \r\nQ 23.96875 65.921875 18.8125 64.3125 \r\nQ 13.671875 62.703125 7.8125 59.421875 \r\nL 7.8125 69.390625 \r\nQ 13.765625 71.78125 18.9375 73 \r\nQ 24.125 74.21875 28.421875 74.21875 \r\nQ 39.75 74.21875 46.484375 68.546875 \r\nQ 53.21875 62.890625 53.21875 53.421875 \r\nQ 53.21875 48.921875 51.53125 44.890625 \r\nQ 49.859375 40.875 45.40625 35.40625 \r\nQ 44.1875 33.984375 37.640625 27.21875 \r\nQ 31.109375 20.453125 19.1875 8.296875 \r\nz\r\n\" id=\"DejaVuSans-50\"/>\r\n       </defs>\r\n       <use xlink:href=\"#DejaVuSans-8722\"/>\r\n       <use x=\"83.789062\" xlink:href=\"#DejaVuSans-49\"/>\r\n       <use x=\"147.412109\" xlink:href=\"#DejaVuSans-50\"/>\r\n      </g>\r\n     </g>\r\n    </g>\r\n    <g id=\"xtick_3\">\r\n     <g id=\"line2d_3\">\r\n      <g>\r\n       <use style=\"stroke:#000000;stroke-width:0.8;\" x=\"147.203112\" xlink:href=\"#md3a06e9584\" y=\"224.64\"/>\r\n      </g>\r\n     </g>\r\n     <g id=\"text_3\">\r\n      <!-- −10 -->\r\n      <g transform=\"translate(136.650768 239.238437)scale(0.1 -0.1)\">\r\n       <defs>\r\n        <path d=\"M 31.78125 66.40625 \r\nQ 24.171875 66.40625 20.328125 58.90625 \r\nQ 16.5 51.421875 16.5 36.375 \r\nQ 16.5 21.390625 20.328125 13.890625 \r\nQ 24.171875 6.390625 31.78125 6.390625 \r\nQ 39.453125 6.390625 43.28125 13.890625 \r\nQ 47.125 21.390625 47.125 36.375 \r\nQ 47.125 51.421875 43.28125 58.90625 \r\nQ 39.453125 66.40625 31.78125 66.40625 \r\nz\r\nM 31.78125 74.21875 \r\nQ 44.046875 74.21875 50.515625 64.515625 \r\nQ 56.984375 54.828125 56.984375 36.375 \r\nQ 56.984375 17.96875 50.515625 8.265625 \r\nQ 44.046875 -1.421875 31.78125 -1.421875 \r\nQ 19.53125 -1.421875 13.0625 8.265625 \r\nQ 6.59375 17.96875 6.59375 36.375 \r\nQ 6.59375 54.828125 13.0625 64.515625 \r\nQ 19.53125 74.21875 31.78125 74.21875 \r\nz\r\n\" id=\"DejaVuSans-48\"/>\r\n       </defs>\r\n       <use xlink:href=\"#DejaVuSans-8722\"/>\r\n       <use x=\"83.789062\" xlink:href=\"#DejaVuSans-49\"/>\r\n       <use x=\"147.412109\" xlink:href=\"#DejaVuSans-48\"/>\r\n      </g>\r\n     </g>\r\n    </g>\r\n    <g id=\"xtick_4\">\r\n     <g id=\"line2d_4\">\r\n      <g>\r\n       <use style=\"stroke:#000000;stroke-width:0.8;\" x=\"200.258997\" xlink:href=\"#md3a06e9584\" y=\"224.64\"/>\r\n      </g>\r\n     </g>\r\n     <g id=\"text_4\">\r\n      <!-- −8 -->\r\n      <g transform=\"translate(192.887903 239.238437)scale(0.1 -0.1)\">\r\n       <defs>\r\n        <path d=\"M 31.78125 34.625 \r\nQ 24.75 34.625 20.71875 30.859375 \r\nQ 16.703125 27.09375 16.703125 20.515625 \r\nQ 16.703125 13.921875 20.71875 10.15625 \r\nQ 24.75 6.390625 31.78125 6.390625 \r\nQ 38.8125 6.390625 42.859375 10.171875 \r\nQ 46.921875 13.96875 46.921875 20.515625 \r\nQ 46.921875 27.09375 42.890625 30.859375 \r\nQ 38.875 34.625 31.78125 34.625 \r\nz\r\nM 21.921875 38.8125 \r\nQ 15.578125 40.375 12.03125 44.71875 \r\nQ 8.5 49.078125 8.5 55.328125 \r\nQ 8.5 64.0625 14.71875 69.140625 \r\nQ 20.953125 74.21875 31.78125 74.21875 \r\nQ 42.671875 74.21875 48.875 69.140625 \r\nQ 55.078125 64.0625 55.078125 55.328125 \r\nQ 55.078125 49.078125 51.53125 44.71875 \r\nQ 48 40.375 41.703125 38.8125 \r\nQ 48.828125 37.15625 52.796875 32.3125 \r\nQ 56.78125 27.484375 56.78125 20.515625 \r\nQ 56.78125 9.90625 50.3125 4.234375 \r\nQ 43.84375 -1.421875 31.78125 -1.421875 \r\nQ 19.734375 -1.421875 13.25 4.234375 \r\nQ 6.78125 9.90625 6.78125 20.515625 \r\nQ 6.78125 27.484375 10.78125 32.3125 \r\nQ 14.796875 37.15625 21.921875 38.8125 \r\nz\r\nM 18.3125 54.390625 \r\nQ 18.3125 48.734375 21.84375 45.5625 \r\nQ 25.390625 42.390625 31.78125 42.390625 \r\nQ 38.140625 42.390625 41.71875 45.5625 \r\nQ 45.3125 48.734375 45.3125 54.390625 \r\nQ 45.3125 60.0625 41.71875 63.234375 \r\nQ 38.140625 66.40625 31.78125 66.40625 \r\nQ 25.390625 66.40625 21.84375 63.234375 \r\nQ 18.3125 60.0625 18.3125 54.390625 \r\nz\r\n\" id=\"DejaVuSans-56\"/>\r\n       </defs>\r\n       <use xlink:href=\"#DejaVuSans-8722\"/>\r\n       <use x=\"83.789062\" xlink:href=\"#DejaVuSans-56\"/>\r\n      </g>\r\n     </g>\r\n    </g>\r\n    <g id=\"xtick_5\">\r\n     <g id=\"line2d_5\">\r\n      <g>\r\n       <use style=\"stroke:#000000;stroke-width:0.8;\" x=\"253.314881\" xlink:href=\"#md3a06e9584\" y=\"224.64\"/>\r\n      </g>\r\n     </g>\r\n     <g id=\"text_5\">\r\n      <!-- −6 -->\r\n      <g transform=\"translate(245.943787 239.238437)scale(0.1 -0.1)\">\r\n       <defs>\r\n        <path d=\"M 33.015625 40.375 \r\nQ 26.375 40.375 22.484375 35.828125 \r\nQ 18.609375 31.296875 18.609375 23.390625 \r\nQ 18.609375 15.53125 22.484375 10.953125 \r\nQ 26.375 6.390625 33.015625 6.390625 \r\nQ 39.65625 6.390625 43.53125 10.953125 \r\nQ 47.40625 15.53125 47.40625 23.390625 \r\nQ 47.40625 31.296875 43.53125 35.828125 \r\nQ 39.65625 40.375 33.015625 40.375 \r\nz\r\nM 52.59375 71.296875 \r\nL 52.59375 62.3125 \r\nQ 48.875 64.0625 45.09375 64.984375 \r\nQ 41.3125 65.921875 37.59375 65.921875 \r\nQ 27.828125 65.921875 22.671875 59.328125 \r\nQ 17.53125 52.734375 16.796875 39.40625 \r\nQ 19.671875 43.65625 24.015625 45.921875 \r\nQ 28.375 48.1875 33.59375 48.1875 \r\nQ 44.578125 48.1875 50.953125 41.515625 \r\nQ 57.328125 34.859375 57.328125 23.390625 \r\nQ 57.328125 12.15625 50.6875 5.359375 \r\nQ 44.046875 -1.421875 33.015625 -1.421875 \r\nQ 20.359375 -1.421875 13.671875 8.265625 \r\nQ 6.984375 17.96875 6.984375 36.375 \r\nQ 6.984375 53.65625 15.1875 63.9375 \r\nQ 23.390625 74.21875 37.203125 74.21875 \r\nQ 40.921875 74.21875 44.703125 73.484375 \r\nQ 48.484375 72.75 52.59375 71.296875 \r\nz\r\n\" id=\"DejaVuSans-54\"/>\r\n       </defs>\r\n       <use xlink:href=\"#DejaVuSans-8722\"/>\r\n       <use x=\"83.789062\" xlink:href=\"#DejaVuSans-54\"/>\r\n      </g>\r\n     </g>\r\n    </g>\r\n    <g id=\"xtick_6\">\r\n     <g id=\"line2d_6\">\r\n      <g>\r\n       <use style=\"stroke:#000000;stroke-width:0.8;\" x=\"306.370766\" xlink:href=\"#md3a06e9584\" y=\"224.64\"/>\r\n      </g>\r\n     </g>\r\n     <g id=\"text_6\">\r\n      <!-- −4 -->\r\n      <g transform=\"translate(298.999672 239.238437)scale(0.1 -0.1)\">\r\n       <use xlink:href=\"#DejaVuSans-8722\"/>\r\n       <use x=\"83.789062\" xlink:href=\"#DejaVuSans-52\"/>\r\n      </g>\r\n     </g>\r\n    </g>\r\n   </g>\r\n   <g id=\"matplotlib.axis_2\">\r\n    <g id=\"ytick_1\">\r\n     <g id=\"line2d_7\">\r\n      <defs>\r\n       <path d=\"M 0 0 \r\nL -3.5 0 \r\n\" id=\"m88accb0eed\" style=\"stroke:#000000;stroke-width:0.8;\"/>\r\n      </defs>\r\n      <g>\r\n       <use style=\"stroke:#000000;stroke-width:0.8;\" x=\"20.5625\" xlink:href=\"#m88accb0eed\" y=\"224.64\"/>\r\n      </g>\r\n     </g>\r\n     <g id=\"text_7\">\r\n      <!-- 0 -->\r\n      <g transform=\"translate(7.2 228.439219)scale(0.1 -0.1)\">\r\n       <use xlink:href=\"#DejaVuSans-48\"/>\r\n      </g>\r\n     </g>\r\n    </g>\r\n    <g id=\"ytick_2\">\r\n     <g id=\"line2d_8\">\r\n      <g>\r\n       <use style=\"stroke:#000000;stroke-width:0.8;\" x=\"20.5625\" xlink:href=\"#m88accb0eed\" y=\"198.754286\"/>\r\n      </g>\r\n     </g>\r\n     <g id=\"text_8\">\r\n      <!-- 1 -->\r\n      <g transform=\"translate(7.2 202.553504)scale(0.1 -0.1)\">\r\n       <use xlink:href=\"#DejaVuSans-49\"/>\r\n      </g>\r\n     </g>\r\n    </g>\r\n    <g id=\"ytick_3\">\r\n     <g id=\"line2d_9\">\r\n      <g>\r\n       <use style=\"stroke:#000000;stroke-width:0.8;\" x=\"20.5625\" xlink:href=\"#m88accb0eed\" y=\"172.868571\"/>\r\n      </g>\r\n     </g>\r\n     <g id=\"text_9\">\r\n      <!-- 2 -->\r\n      <g transform=\"translate(7.2 176.66779)scale(0.1 -0.1)\">\r\n       <use xlink:href=\"#DejaVuSans-50\"/>\r\n      </g>\r\n     </g>\r\n    </g>\r\n    <g id=\"ytick_4\">\r\n     <g id=\"line2d_10\">\r\n      <g>\r\n       <use style=\"stroke:#000000;stroke-width:0.8;\" x=\"20.5625\" xlink:href=\"#m88accb0eed\" y=\"146.982857\"/>\r\n      </g>\r\n     </g>\r\n     <g id=\"text_10\">\r\n      <!-- 3 -->\r\n      <g transform=\"translate(7.2 150.782076)scale(0.1 -0.1)\">\r\n       <defs>\r\n        <path d=\"M 40.578125 39.3125 \r\nQ 47.65625 37.796875 51.625 33 \r\nQ 55.609375 28.21875 55.609375 21.1875 \r\nQ 55.609375 10.40625 48.1875 4.484375 \r\nQ 40.765625 -1.421875 27.09375 -1.421875 \r\nQ 22.515625 -1.421875 17.65625 -0.515625 \r\nQ 12.796875 0.390625 7.625 2.203125 \r\nL 7.625 11.71875 \r\nQ 11.71875 9.328125 16.59375 8.109375 \r\nQ 21.484375 6.890625 26.8125 6.890625 \r\nQ 36.078125 6.890625 40.9375 10.546875 \r\nQ 45.796875 14.203125 45.796875 21.1875 \r\nQ 45.796875 27.640625 41.28125 31.265625 \r\nQ 36.765625 34.90625 28.71875 34.90625 \r\nL 20.21875 34.90625 \r\nL 20.21875 43.015625 \r\nL 29.109375 43.015625 \r\nQ 36.375 43.015625 40.234375 45.921875 \r\nQ 44.09375 48.828125 44.09375 54.296875 \r\nQ 44.09375 59.90625 40.109375 62.90625 \r\nQ 36.140625 65.921875 28.71875 65.921875 \r\nQ 24.65625 65.921875 20.015625 65.03125 \r\nQ 15.375 64.15625 9.8125 62.3125 \r\nL 9.8125 71.09375 \r\nQ 15.4375 72.65625 20.34375 73.4375 \r\nQ 25.25 74.21875 29.59375 74.21875 \r\nQ 40.828125 74.21875 47.359375 69.109375 \r\nQ 53.90625 64.015625 53.90625 55.328125 \r\nQ 53.90625 49.265625 50.4375 45.09375 \r\nQ 46.96875 40.921875 40.578125 39.3125 \r\nz\r\n\" id=\"DejaVuSans-51\"/>\r\n       </defs>\r\n       <use xlink:href=\"#DejaVuSans-51\"/>\r\n      </g>\r\n     </g>\r\n    </g>\r\n    <g id=\"ytick_5\">\r\n     <g id=\"line2d_11\">\r\n      <g>\r\n       <use style=\"stroke:#000000;stroke-width:0.8;\" x=\"20.5625\" xlink:href=\"#m88accb0eed\" y=\"121.097143\"/>\r\n      </g>\r\n     </g>\r\n     <g id=\"text_11\">\r\n      <!-- 4 -->\r\n      <g transform=\"translate(7.2 124.896362)scale(0.1 -0.1)\">\r\n       <use xlink:href=\"#DejaVuSans-52\"/>\r\n      </g>\r\n     </g>\r\n    </g>\r\n    <g id=\"ytick_6\">\r\n     <g id=\"line2d_12\">\r\n      <g>\r\n       <use style=\"stroke:#000000;stroke-width:0.8;\" x=\"20.5625\" xlink:href=\"#m88accb0eed\" y=\"95.211429\"/>\r\n      </g>\r\n     </g>\r\n     <g id=\"text_12\">\r\n      <!-- 5 -->\r\n      <g transform=\"translate(7.2 99.010647)scale(0.1 -0.1)\">\r\n       <defs>\r\n        <path d=\"M 10.796875 72.90625 \r\nL 49.515625 72.90625 \r\nL 49.515625 64.59375 \r\nL 19.828125 64.59375 \r\nL 19.828125 46.734375 \r\nQ 21.96875 47.46875 24.109375 47.828125 \r\nQ 26.265625 48.1875 28.421875 48.1875 \r\nQ 40.625 48.1875 47.75 41.5 \r\nQ 54.890625 34.8125 54.890625 23.390625 \r\nQ 54.890625 11.625 47.5625 5.09375 \r\nQ 40.234375 -1.421875 26.90625 -1.421875 \r\nQ 22.3125 -1.421875 17.546875 -0.640625 \r\nQ 12.796875 0.140625 7.71875 1.703125 \r\nL 7.71875 11.625 \r\nQ 12.109375 9.234375 16.796875 8.0625 \r\nQ 21.484375 6.890625 26.703125 6.890625 \r\nQ 35.15625 6.890625 40.078125 11.328125 \r\nQ 45.015625 15.765625 45.015625 23.390625 \r\nQ 45.015625 31 40.078125 35.4375 \r\nQ 35.15625 39.890625 26.703125 39.890625 \r\nQ 22.75 39.890625 18.8125 39.015625 \r\nQ 14.890625 38.140625 10.796875 36.28125 \r\nz\r\n\" id=\"DejaVuSans-53\"/>\r\n       </defs>\r\n       <use xlink:href=\"#DejaVuSans-53\"/>\r\n      </g>\r\n     </g>\r\n    </g>\r\n    <g id=\"ytick_7\">\r\n     <g id=\"line2d_13\">\r\n      <g>\r\n       <use style=\"stroke:#000000;stroke-width:0.8;\" x=\"20.5625\" xlink:href=\"#m88accb0eed\" y=\"69.325714\"/>\r\n      </g>\r\n     </g>\r\n     <g id=\"text_13\">\r\n      <!-- 6 -->\r\n      <g transform=\"translate(7.2 73.124933)scale(0.1 -0.1)\">\r\n       <use xlink:href=\"#DejaVuSans-54\"/>\r\n      </g>\r\n     </g>\r\n    </g>\r\n    <g id=\"ytick_8\">\r\n     <g id=\"line2d_14\">\r\n      <g>\r\n       <use style=\"stroke:#000000;stroke-width:0.8;\" x=\"20.5625\" xlink:href=\"#m88accb0eed\" y=\"43.44\"/>\r\n      </g>\r\n     </g>\r\n     <g id=\"text_14\">\r\n      <!-- 7 -->\r\n      <g transform=\"translate(7.2 47.239219)scale(0.1 -0.1)\">\r\n       <defs>\r\n        <path d=\"M 8.203125 72.90625 \r\nL 55.078125 72.90625 \r\nL 55.078125 68.703125 \r\nL 28.609375 0 \r\nL 18.3125 0 \r\nL 43.21875 64.59375 \r\nL 8.203125 64.59375 \r\nz\r\n\" id=\"DejaVuSans-55\"/>\r\n       </defs>\r\n       <use xlink:href=\"#DejaVuSans-55\"/>\r\n      </g>\r\n     </g>\r\n    </g>\r\n    <g id=\"ytick_9\">\r\n     <g id=\"line2d_15\">\r\n      <g>\r\n       <use style=\"stroke:#000000;stroke-width:0.8;\" x=\"20.5625\" xlink:href=\"#m88accb0eed\" y=\"17.554286\"/>\r\n      </g>\r\n     </g>\r\n     <g id=\"text_15\">\r\n      <!-- 8 -->\r\n      <g transform=\"translate(7.2 21.353504)scale(0.1 -0.1)\">\r\n       <use xlink:href=\"#DejaVuSans-56\"/>\r\n      </g>\r\n     </g>\r\n    </g>\r\n   </g>\r\n   <g id=\"patch_13\">\r\n    <path d=\"M 20.5625 224.64 \r\nL 20.5625 7.2 \r\n\" style=\"fill:none;stroke:#000000;stroke-linecap:square;stroke-linejoin:miter;stroke-width:0.8;\"/>\r\n   </g>\r\n   <g id=\"patch_14\">\r\n    <path d=\"M 355.3625 224.64 \r\nL 355.3625 7.2 \r\n\" style=\"fill:none;stroke:#000000;stroke-linecap:square;stroke-linejoin:miter;stroke-width:0.8;\"/>\r\n   </g>\r\n   <g id=\"patch_15\">\r\n    <path d=\"M 20.5625 224.64 \r\nL 355.3625 224.64 \r\n\" style=\"fill:none;stroke:#000000;stroke-linecap:square;stroke-linejoin:miter;stroke-width:0.8;\"/>\r\n   </g>\r\n   <g id=\"patch_16\">\r\n    <path d=\"M 20.5625 7.2 \r\nL 355.3625 7.2 \r\n\" style=\"fill:none;stroke:#000000;stroke-linecap:square;stroke-linejoin:miter;stroke-width:0.8;\"/>\r\n   </g>\r\n  </g>\r\n </g>\r\n <defs>\r\n  <clipPath id=\"pe01f079ade\">\r\n   <rect height=\"217.44\" width=\"334.8\" x=\"20.5625\" y=\"7.2\"/>\r\n  </clipPath>\r\n </defs>\r\n</svg>\r\n",
      "image/png": "[encoded data removed]"
     },
     "metadata": {
      "needs_background": "light"
     }
    }
   ],
   "source": [
    "bins = numpy.linspace(-10, 0, 10)\n",
    "plt.hist(scoreDis, label='y')"
   ]
  },
  {
   "cell_type": "code",
   "execution_count": null,
   "metadata": {},
   "outputs": [],
   "source": [
    "codewords = [[1,2,3,4],[2,2,3,4],[1,1,2,3],[1,2,1,4]]\n",
    "c_counter = char_freq(codewords)\n",
    "c_word = [1,2,3]\n",
    "p_cs = cal_pro(c_counter,c_word, len(codewords))\n",
    "print(p_cs)"
   ]
  },
  {
   "cell_type": "code",
   "execution_count": null,
   "metadata": {},
   "outputs": [],
   "source": [
    "num = array2num([1, 1, 2, 3, 4, 5])\n",
    "print(num)"
   ]
  },
  {
   "cell_type": "code",
   "execution_count": null,
   "metadata": {},
   "outputs": [],
   "source": [
    "print(mus[111111])"
   ]
  },
  {
   "cell_type": "code",
   "execution_count": null,
   "metadata": {},
   "outputs": [],
   "source": [
    "deleRateDen**2/2)/math.sqrt(2*math.pi)"
   ]
  },
  {
   "cell_type": "code",
   "execution_count": null,
   "metadata": {},
   "outputs": [],
   "source": [
    "stats.norm.pdf((85 - mus[111111])/(sigmas[111111]*0.1),0,1) - mus[111111])/(sigmas[111111]*0.1),0,1)\n",
    "# stats.norm.pdf(0, 0, 1) * 0.01"
   ]
  },
  {
   "cell_type": "code",
   "execution_count": null,
   "metadata": {},
   "outputs": [],
   "source": [
    "print(p_cs)\n",
    "print(len(label_arrays))"
   ]
  },
  {
   "cell_type": "code",
   "execution_count": 54,
   "metadata": {},
   "outputs": [
    {
     "output_type": "stream",
     "name": "stdout",
     "text": [
      "[7. 6. 9. 9. 0. 7. 9. 0. 8. 7. 9. 9. 0. 7. 7. 7. 7. 7. 0. 8. 0. 7. 7. 7.\n 0. 0. 7. 7. 0. 6. 8. 0. 7. 0. 0. 0. 0. 0. 7. 0. 9. 0. 7. 0. 8. 0. 7. 0.\n 0. 0. 0. 7. 0. 9. 8. 7. 8. 7. 8. 0. 9. 0. 0. 0. 7. 8. 0. 8. 8. 8. 0. 0.\n 0. 9. 9. 7. 7. 7. 9. 9. 7. 0. 0. 0. 0. 7. 7. 7. 0. 7. 0. 9. 8. 0. 0. 0.\n 0. 9. 9. 9. 9. 9. 9. 9. 0. 0. 0. 9. 0. 9. 0. 9. 9. 0. 0. 0. 9. 9. 9. 9.\n 0. 9. 8. 0. 0. 0. 0. 0. 0. 0. 0. 0. 0. 0. 0. 0. 0. 0. 0. 9. 0. 0. 9. 0.\n 0. 0. 0. 9. 0. 8. 8. 0. 0. 8. 0. 8. 7. 8. 8. 0. 0. 0. 0. 0. 0. 0. 0.]\n"
     ]
    }
   ],
   "source": [
    "print(delMap[:,signal_idx//5+1])"
   ]
  },
  {
   "cell_type": "code",
   "execution_count": 82,
   "metadata": {},
   "outputs": [
    {
     "output_type": "stream",
     "name": "stdout",
     "text": [
      "[10.  1. 10. 10.  0.  1.  0.  0. 10.  5.  0.  5.  0.  0.  0.  0.  5.  1.\n  1.  1.  0.  7.  6.  0.  0.  6.  6.  0.  0.  0.  5.  0.  0.  0.  0.  8.\n  0.  7.  7.  0.  0.  9.  6.  0.  1.  0.  6.  0.  0.  0.  0.  5.  0.  1.\n  5.  0. 10.  5.  8.  5.  6.  8.  0.  0.  0.  0.  0.  0. 10.  0.  0.  0.\n  0.  0.  0.  7.  9. 10.  6.  0.  0.  0.  0.  8.  0.  9.  8.  8.  3.  0.\n  7.  8.  0.  0.  0.  0.  0.  6.  1.  0.  0.  1.  0.  1.  0.  0.  0.  0.\n  0.  0.  0.  1.  6.  0.  0.  0.  0.  1. 10. 10.  0.  1.  0.  0. 10.  0.\n  0.  1.  0.  6.  0.  6.  5.  0.  0.  0.  7.  7.  0.  0.  0.  6.  1.  0.\n  6.  0.  0.  1.  0.  5.  0.  0.  0. 10.  0.  0.  0.  0.  0.  0.  0.  0.\n  0.  0.  0.  0.  0.]\n"
     ]
    }
   ],
   "source": [
    "print(delMap[:,7])"
   ]
  },
  {
   "cell_type": "code",
   "execution_count": 72,
   "metadata": {},
   "outputs": [
    {
     "output_type": "stream",
     "name": "stdout",
     "text": [
      "80\n"
     ]
    }
   ],
   "source": [
    "print(signal_idx)"
   ]
  },
  {
   "cell_type": "code",
   "execution_count": 139,
   "metadata": {},
   "outputs": [
    {
     "output_type": "stream",
     "name": "stdout",
     "text": [
      "130\n"
     ]
    }
   ],
   "source": [
    "print(real_path[signal_idx//5+1])"
   ]
  },
  {
   "cell_type": "code",
   "execution_count": null,
   "metadata": {},
   "outputs": [],
   "source": [
    "print(last_state_graph[:,signal_idx//5+1])"
   ]
  },
  {
   "cell_type": "code",
   "execution_count": 50,
   "metadata": {},
   "outputs": [
    {
     "output_type": "stream",
     "name": "stdout",
     "text": [
      "[ -40.927  -40.927  -40.927     -inf     -inf   -7.825  -41.562     -inf\n     -inf  -40.856  -88.598  -92.872     -inf     -inf     -inf     -inf\n     -inf  -15.866  -41.562  -41.562     -inf     -inf     -inf     -inf\n     -inf     -inf  -85.97   -75.379     -inf     -inf  -76.215     -inf\n     -inf     -inf     -inf     -inf     -inf     -inf     -inf     -inf\n  -10.605  -91.264  -47.44      -inf  -13.759     -inf  -75.379     -inf\n     -inf     -inf  -78.584  -96.037     -inf  -10.219     -inf     -inf\n     -inf     -inf     -inf     -inf  -16.329     -inf     -inf     -inf\n     -inf     -inf  -93.185     -inf     -inf  -40.793     -inf     -inf\n -103.172  -84.67   -84.67   -75.379  -40.793  -76.333     -inf     -inf\n  -40.793  -80.055  -75.195     -inf     -inf  -47.44      -inf     -inf\n     -inf     -inf     -inf  -73.892     -inf     -inf     -inf     -inf\n  -84.885  -16.511  -16.511  -16.511  -16.25   -16.25   -40.856  -40.856\n     -inf     -inf     -inf     -inf     -inf     -inf     -inf  -38.984\n  -11.918     -inf     -inf     -inf  -40.927  -40.927  -40.927     -inf\n     -inf   -7.825  -41.562     -inf     -inf  -40.856  -92.872  -15.866\n  -41.562  -41.562     -inf  -85.97   -76.215     -inf     -inf     -inf\n     -inf     -inf     -inf  -10.605  -91.264  -47.44   -13.759     -inf\n  -75.379  -78.584     -inf  -10.219     -inf     -inf     -inf     -inf\n     -inf     -inf  -75.379  -40.793  -76.333     -inf  -40.793  -75.195\n     -inf  -47.44      -inf     -inf     -inf  -16.511  -16.25 ]\n"
     ]
    }
   ],
   "source": [
    "print(dpvalue_graph[:,signal_idx//5+1])"
   ]
  },
  {
   "cell_type": "code",
   "execution_count": 38,
   "metadata": {},
   "outputs": [
    {
     "output_type": "stream",
     "name": "stdout",
     "text": [
      "-224.1466561268403\n"
     ]
    }
   ],
   "source": [
    "print(dpvalue_graph[128,signal_idx//5+1])"
   ]
  },
  {
   "cell_type": "code",
   "execution_count": 51,
   "metadata": {},
   "outputs": [
    {
     "output_type": "stream",
     "name": "stdout",
     "text": [
      "[43121. 43122. 43123.     0.     0. 43114. 43424.     0.     0. 43413.\n 42133. 42134.     0.     0.     0.     0.     0. 43341. 43421. 43423.\n     0.     0.     0.     0.     0.     0. 41224. 41231.     0.     0.\n 14312.     0.     0.     0.     0.     0.     0.     0.     0.     0.\n 43132. 43223. 41241.     0. 43312.     0. 41233.     0.     0.     0.\n 42131. 32232.     0. 43112.     0.     0.     0.     0.     0.     0.\n 43311.     0.     0.     0.     0.     0. 32241.     0.     0. 43432.\n     0.     0. 42313. 43211. 43213. 41232. 43434. 43243.     0.     0.\n 43433. 42111. 42113.     0.     0. 41243.     0.     0.     0.     0.\n     0. 41213.     0.     0.     0.     0. 43232. 43331. 43332. 43333.\n 43342. 43343. 43411. 43412.     0.     0.     0.     0.     0.     0.\n     0. 43431. 43131.     0.     0.     0. 43121. 43122. 43123.     0.\n     0. 43114. 43424.     0.     0. 43413. 42134. 43341. 43421. 43423.\n     0. 41224. 14312.     0.     0.     0.     0.     0.     0. 43132.\n 43223. 41241. 43312.     0. 41233. 42131.     0. 43112.     0.     0.\n     0.     0.     0.     0. 41232. 43434. 43243.     0. 43433. 42113.\n     0. 41243.     0.     0.     0. 43332. 43342.]\n"
     ]
    },
    {
     "output_type": "execute_result",
     "data": {
      "text/plain": [
       "(array([  5, 121], dtype=int64),)"
      ]
     },
     "metadata": {},
     "execution_count": 51
    }
   ],
   "source": [
    "print(prefix_label_graph[:,signal_idx//5+1])\n",
    "np.where(prefix_label_graph[:,signal_idx//5+1] == codewords[signal_idx//5])"
   ]
  },
  {
   "cell_type": "code",
   "execution_count": 39,
   "metadata": {},
   "outputs": [
    {
     "output_type": "stream",
     "name": "stdout",
     "text": [
      "13421.0\n"
     ]
    }
   ],
   "source": [
    "print(prefix_label_graph[128,signal_idx//5+1])"
   ]
  },
  {
   "cell_type": "code",
   "execution_count": 49,
   "metadata": {},
   "outputs": [
    {
     "output_type": "stream",
     "name": "stdout",
     "text": [
      "31424\n"
     ]
    }
   ],
   "source": [
    "print(codewords[signal_idx//5])"
   ]
  },
  {
   "cell_type": "code",
   "execution_count": null,
   "metadata": {},
   "outputs": [],
   "source": [
    "a = np.arange(6) + 10\n",
    "a[0] = 100\n",
    "np.argmax(a)"
   ]
  }
 ]
}